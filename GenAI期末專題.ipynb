{
  "nbformat": 4,
  "nbformat_minor": 0,
  "metadata": {
    "colab": {
      "provenance": [],
      "toc_visible": true,
      "authorship_tag": "ABX9TyP1WdOBJVxuGbqu+45+F/KL",
      "include_colab_link": true
    },
    "kernelspec": {
      "name": "python3",
      "display_name": "Python 3"
    },
    "language_info": {
      "name": "python"
    },
    "widgets": {
      "application/vnd.jupyter.widget-state+json": {
        "53ced4f1133d4187a0c01edee73b5c4a": {
          "model_module": "@jupyter-widgets/controls",
          "model_name": "VBoxModel",
          "model_module_version": "1.5.0",
          "state": {
            "_dom_classes": [
              "widget-interact"
            ],
            "_model_module": "@jupyter-widgets/controls",
            "_model_module_version": "1.5.0",
            "_model_name": "VBoxModel",
            "_view_count": null,
            "_view_module": "@jupyter-widgets/controls",
            "_view_module_version": "1.5.0",
            "_view_name": "VBoxView",
            "box_style": "",
            "children": [
              "IPY_MODEL_94ee7734fd9f4080912e81d76adf50f1",
              "IPY_MODEL_e766f7351c8443f19e957cba35cfd1e4",
              "IPY_MODEL_ad3edd63f09b4c4db4dc90c6d76e18a9"
            ],
            "layout": "IPY_MODEL_2a11b53d491945a699e5d5e270a2ed07"
          }
        },
        "94ee7734fd9f4080912e81d76adf50f1": {
          "model_module": "@jupyter-widgets/controls",
          "model_name": "IntSliderModel",
          "model_module_version": "1.5.0",
          "state": {
            "_dom_classes": [],
            "_model_module": "@jupyter-widgets/controls",
            "_model_module_version": "1.5.0",
            "_model_name": "IntSliderModel",
            "_view_count": null,
            "_view_module": "@jupyter-widgets/controls",
            "_view_module_version": "1.5.0",
            "_view_name": "IntSliderView",
            "continuous_update": true,
            "description": "n",
            "description_tooltip": null,
            "disabled": false,
            "layout": "IPY_MODEL_13db688cff37466c8560c5c2b1c85596",
            "max": 2809,
            "min": 0,
            "orientation": "horizontal",
            "readout": true,
            "readout_format": "d",
            "step": 1,
            "style": "IPY_MODEL_cad3c6d5bb964efa8080a129b527be53",
            "value": 0
          }
        },
        "e766f7351c8443f19e957cba35cfd1e4": {
          "model_module": "@jupyter-widgets/controls",
          "model_name": "ButtonModel",
          "model_module_version": "1.5.0",
          "state": {
            "_dom_classes": [],
            "_model_module": "@jupyter-widgets/controls",
            "_model_module_version": "1.5.0",
            "_model_name": "ButtonModel",
            "_view_count": null,
            "_view_module": "@jupyter-widgets/controls",
            "_view_module_version": "1.5.0",
            "_view_name": "ButtonView",
            "button_style": "",
            "description": "Run Interact",
            "disabled": false,
            "icon": "",
            "layout": "IPY_MODEL_1e75d41b0bdf47cc9f7b29c533c1b93c",
            "style": "IPY_MODEL_719707565135478eaed990917e46623d",
            "tooltip": ""
          }
        },
        "ad3edd63f09b4c4db4dc90c6d76e18a9": {
          "model_module": "@jupyter-widgets/output",
          "model_name": "OutputModel",
          "model_module_version": "1.0.0",
          "state": {
            "_dom_classes": [],
            "_model_module": "@jupyter-widgets/output",
            "_model_module_version": "1.0.0",
            "_model_name": "OutputModel",
            "_view_count": null,
            "_view_module": "@jupyter-widgets/output",
            "_view_module_version": "1.0.0",
            "_view_name": "OutputView",
            "layout": "IPY_MODEL_f51e99002b864cc4b88e453979daa4a0",
            "msg_id": "",
            "outputs": [
              {
                "output_type": "stream",
                "name": "stdout",
                "text": [
                  "﻿一帆風順\n"
                ]
              }
            ]
          }
        },
        "2a11b53d491945a699e5d5e270a2ed07": {
          "model_module": "@jupyter-widgets/base",
          "model_name": "LayoutModel",
          "model_module_version": "1.2.0",
          "state": {
            "_model_module": "@jupyter-widgets/base",
            "_model_module_version": "1.2.0",
            "_model_name": "LayoutModel",
            "_view_count": null,
            "_view_module": "@jupyter-widgets/base",
            "_view_module_version": "1.2.0",
            "_view_name": "LayoutView",
            "align_content": null,
            "align_items": null,
            "align_self": null,
            "border": null,
            "bottom": null,
            "display": null,
            "flex": null,
            "flex_flow": null,
            "grid_area": null,
            "grid_auto_columns": null,
            "grid_auto_flow": null,
            "grid_auto_rows": null,
            "grid_column": null,
            "grid_gap": null,
            "grid_row": null,
            "grid_template_areas": null,
            "grid_template_columns": null,
            "grid_template_rows": null,
            "height": null,
            "justify_content": null,
            "justify_items": null,
            "left": null,
            "margin": null,
            "max_height": null,
            "max_width": null,
            "min_height": null,
            "min_width": null,
            "object_fit": null,
            "object_position": null,
            "order": null,
            "overflow": null,
            "overflow_x": null,
            "overflow_y": null,
            "padding": null,
            "right": null,
            "top": null,
            "visibility": null,
            "width": null
          }
        },
        "13db688cff37466c8560c5c2b1c85596": {
          "model_module": "@jupyter-widgets/base",
          "model_name": "LayoutModel",
          "model_module_version": "1.2.0",
          "state": {
            "_model_module": "@jupyter-widgets/base",
            "_model_module_version": "1.2.0",
            "_model_name": "LayoutModel",
            "_view_count": null,
            "_view_module": "@jupyter-widgets/base",
            "_view_module_version": "1.2.0",
            "_view_name": "LayoutView",
            "align_content": null,
            "align_items": null,
            "align_self": null,
            "border": null,
            "bottom": null,
            "display": null,
            "flex": null,
            "flex_flow": null,
            "grid_area": null,
            "grid_auto_columns": null,
            "grid_auto_flow": null,
            "grid_auto_rows": null,
            "grid_column": null,
            "grid_gap": null,
            "grid_row": null,
            "grid_template_areas": null,
            "grid_template_columns": null,
            "grid_template_rows": null,
            "height": null,
            "justify_content": null,
            "justify_items": null,
            "left": null,
            "margin": null,
            "max_height": null,
            "max_width": null,
            "min_height": null,
            "min_width": null,
            "object_fit": null,
            "object_position": null,
            "order": null,
            "overflow": null,
            "overflow_x": null,
            "overflow_y": null,
            "padding": null,
            "right": null,
            "top": null,
            "visibility": null,
            "width": null
          }
        },
        "cad3c6d5bb964efa8080a129b527be53": {
          "model_module": "@jupyter-widgets/controls",
          "model_name": "SliderStyleModel",
          "model_module_version": "1.5.0",
          "state": {
            "_model_module": "@jupyter-widgets/controls",
            "_model_module_version": "1.5.0",
            "_model_name": "SliderStyleModel",
            "_view_count": null,
            "_view_module": "@jupyter-widgets/base",
            "_view_module_version": "1.2.0",
            "_view_name": "StyleView",
            "description_width": "",
            "handle_color": null
          }
        },
        "1e75d41b0bdf47cc9f7b29c533c1b93c": {
          "model_module": "@jupyter-widgets/base",
          "model_name": "LayoutModel",
          "model_module_version": "1.2.0",
          "state": {
            "_model_module": "@jupyter-widgets/base",
            "_model_module_version": "1.2.0",
            "_model_name": "LayoutModel",
            "_view_count": null,
            "_view_module": "@jupyter-widgets/base",
            "_view_module_version": "1.2.0",
            "_view_name": "LayoutView",
            "align_content": null,
            "align_items": null,
            "align_self": null,
            "border": null,
            "bottom": null,
            "display": null,
            "flex": null,
            "flex_flow": null,
            "grid_area": null,
            "grid_auto_columns": null,
            "grid_auto_flow": null,
            "grid_auto_rows": null,
            "grid_column": null,
            "grid_gap": null,
            "grid_row": null,
            "grid_template_areas": null,
            "grid_template_columns": null,
            "grid_template_rows": null,
            "height": null,
            "justify_content": null,
            "justify_items": null,
            "left": null,
            "margin": null,
            "max_height": null,
            "max_width": null,
            "min_height": null,
            "min_width": null,
            "object_fit": null,
            "object_position": null,
            "order": null,
            "overflow": null,
            "overflow_x": null,
            "overflow_y": null,
            "padding": null,
            "right": null,
            "top": null,
            "visibility": null,
            "width": null
          }
        },
        "719707565135478eaed990917e46623d": {
          "model_module": "@jupyter-widgets/controls",
          "model_name": "ButtonStyleModel",
          "model_module_version": "1.5.0",
          "state": {
            "_model_module": "@jupyter-widgets/controls",
            "_model_module_version": "1.5.0",
            "_model_name": "ButtonStyleModel",
            "_view_count": null,
            "_view_module": "@jupyter-widgets/base",
            "_view_module_version": "1.2.0",
            "_view_name": "StyleView",
            "button_color": null,
            "font_weight": ""
          }
        },
        "f51e99002b864cc4b88e453979daa4a0": {
          "model_module": "@jupyter-widgets/base",
          "model_name": "LayoutModel",
          "model_module_version": "1.2.0",
          "state": {
            "_model_module": "@jupyter-widgets/base",
            "_model_module_version": "1.2.0",
            "_model_name": "LayoutModel",
            "_view_count": null,
            "_view_module": "@jupyter-widgets/base",
            "_view_module_version": "1.2.0",
            "_view_name": "LayoutView",
            "align_content": null,
            "align_items": null,
            "align_self": null,
            "border": null,
            "bottom": null,
            "display": null,
            "flex": null,
            "flex_flow": null,
            "grid_area": null,
            "grid_auto_columns": null,
            "grid_auto_flow": null,
            "grid_auto_rows": null,
            "grid_column": null,
            "grid_gap": null,
            "grid_row": null,
            "grid_template_areas": null,
            "grid_template_columns": null,
            "grid_template_rows": null,
            "height": null,
            "justify_content": null,
            "justify_items": null,
            "left": null,
            "margin": null,
            "max_height": null,
            "max_width": null,
            "min_height": null,
            "min_width": null,
            "object_fit": null,
            "object_position": null,
            "order": null,
            "overflow": null,
            "overflow_x": null,
            "overflow_y": null,
            "padding": null,
            "right": null,
            "top": null,
            "visibility": null,
            "width": null
          }
        },
        "7872cbafc68c4f3088ee88cc54f230f8": {
          "model_module": "@jupyter-widgets/controls",
          "model_name": "VBoxModel",
          "model_module_version": "1.5.0",
          "state": {
            "_dom_classes": [
              "widget-interact"
            ],
            "_model_module": "@jupyter-widgets/controls",
            "_model_module_version": "1.5.0",
            "_model_name": "VBoxModel",
            "_view_count": null,
            "_view_module": "@jupyter-widgets/controls",
            "_view_module_version": "1.5.0",
            "_view_name": "VBoxView",
            "box_style": "",
            "children": [
              "IPY_MODEL_306876e61f394f739f630f20e14a7468",
              "IPY_MODEL_0072eeedefd342e68e29b2668c9e1ec7",
              "IPY_MODEL_c24461b2d80d4ae488d9c17ec6b26bec"
            ],
            "layout": "IPY_MODEL_7f020b30adbd4f99beeb10233b9af866"
          }
        },
        "306876e61f394f739f630f20e14a7468": {
          "model_module": "@jupyter-widgets/controls",
          "model_name": "IntSliderModel",
          "model_module_version": "1.5.0",
          "state": {
            "_dom_classes": [],
            "_model_module": "@jupyter-widgets/controls",
            "_model_module_version": "1.5.0",
            "_model_name": "IntSliderModel",
            "_view_count": null,
            "_view_module": "@jupyter-widgets/controls",
            "_view_module_version": "1.5.0",
            "_view_name": "IntSliderView",
            "continuous_update": true,
            "description": "n",
            "description_tooltip": null,
            "disabled": false,
            "layout": "IPY_MODEL_ae0f9127d64941b2b964fa25234ab6fc",
            "max": 8277,
            "min": 0,
            "orientation": "horizontal",
            "readout": true,
            "readout_format": "d",
            "step": 1,
            "style": "IPY_MODEL_3389f5c1fceb4f89a81ccd2eff8fb50f",
            "value": 0
          }
        },
        "0072eeedefd342e68e29b2668c9e1ec7": {
          "model_module": "@jupyter-widgets/controls",
          "model_name": "ButtonModel",
          "model_module_version": "1.5.0",
          "state": {
            "_dom_classes": [],
            "_model_module": "@jupyter-widgets/controls",
            "_model_module_version": "1.5.0",
            "_model_name": "ButtonModel",
            "_view_count": null,
            "_view_module": "@jupyter-widgets/controls",
            "_view_module_version": "1.5.0",
            "_view_name": "ButtonView",
            "button_style": "",
            "description": "Run Interact",
            "disabled": false,
            "icon": "",
            "layout": "IPY_MODEL_142c0c1f746d4360821c07a63ed90c26",
            "style": "IPY_MODEL_867f2be7ffd049c9829d6abac135c5f4",
            "tooltip": ""
          }
        },
        "c24461b2d80d4ae488d9c17ec6b26bec": {
          "model_module": "@jupyter-widgets/output",
          "model_name": "OutputModel",
          "model_module_version": "1.0.0",
          "state": {
            "_dom_classes": [],
            "_model_module": "@jupyter-widgets/output",
            "_model_module_version": "1.0.0",
            "_model_name": "OutputModel",
            "_view_count": null,
            "_view_module": "@jupyter-widgets/output",
            "_view_module_version": "1.0.0",
            "_view_name": "OutputView",
            "layout": "IPY_MODEL_51a87197215145c59b124c28fde6c78a",
            "msg_id": "",
            "outputs": [
              {
                "output_type": "stream",
                "name": "stdout",
                "text": [
                  "﻿幹\n"
                ]
              }
            ]
          }
        },
        "7f020b30adbd4f99beeb10233b9af866": {
          "model_module": "@jupyter-widgets/base",
          "model_name": "LayoutModel",
          "model_module_version": "1.2.0",
          "state": {
            "_model_module": "@jupyter-widgets/base",
            "_model_module_version": "1.2.0",
            "_model_name": "LayoutModel",
            "_view_count": null,
            "_view_module": "@jupyter-widgets/base",
            "_view_module_version": "1.2.0",
            "_view_name": "LayoutView",
            "align_content": null,
            "align_items": null,
            "align_self": null,
            "border": null,
            "bottom": null,
            "display": null,
            "flex": null,
            "flex_flow": null,
            "grid_area": null,
            "grid_auto_columns": null,
            "grid_auto_flow": null,
            "grid_auto_rows": null,
            "grid_column": null,
            "grid_gap": null,
            "grid_row": null,
            "grid_template_areas": null,
            "grid_template_columns": null,
            "grid_template_rows": null,
            "height": null,
            "justify_content": null,
            "justify_items": null,
            "left": null,
            "margin": null,
            "max_height": null,
            "max_width": null,
            "min_height": null,
            "min_width": null,
            "object_fit": null,
            "object_position": null,
            "order": null,
            "overflow": null,
            "overflow_x": null,
            "overflow_y": null,
            "padding": null,
            "right": null,
            "top": null,
            "visibility": null,
            "width": null
          }
        },
        "ae0f9127d64941b2b964fa25234ab6fc": {
          "model_module": "@jupyter-widgets/base",
          "model_name": "LayoutModel",
          "model_module_version": "1.2.0",
          "state": {
            "_model_module": "@jupyter-widgets/base",
            "_model_module_version": "1.2.0",
            "_model_name": "LayoutModel",
            "_view_count": null,
            "_view_module": "@jupyter-widgets/base",
            "_view_module_version": "1.2.0",
            "_view_name": "LayoutView",
            "align_content": null,
            "align_items": null,
            "align_self": null,
            "border": null,
            "bottom": null,
            "display": null,
            "flex": null,
            "flex_flow": null,
            "grid_area": null,
            "grid_auto_columns": null,
            "grid_auto_flow": null,
            "grid_auto_rows": null,
            "grid_column": null,
            "grid_gap": null,
            "grid_row": null,
            "grid_template_areas": null,
            "grid_template_columns": null,
            "grid_template_rows": null,
            "height": null,
            "justify_content": null,
            "justify_items": null,
            "left": null,
            "margin": null,
            "max_height": null,
            "max_width": null,
            "min_height": null,
            "min_width": null,
            "object_fit": null,
            "object_position": null,
            "order": null,
            "overflow": null,
            "overflow_x": null,
            "overflow_y": null,
            "padding": null,
            "right": null,
            "top": null,
            "visibility": null,
            "width": null
          }
        },
        "3389f5c1fceb4f89a81ccd2eff8fb50f": {
          "model_module": "@jupyter-widgets/controls",
          "model_name": "SliderStyleModel",
          "model_module_version": "1.5.0",
          "state": {
            "_model_module": "@jupyter-widgets/controls",
            "_model_module_version": "1.5.0",
            "_model_name": "SliderStyleModel",
            "_view_count": null,
            "_view_module": "@jupyter-widgets/base",
            "_view_module_version": "1.2.0",
            "_view_name": "StyleView",
            "description_width": "",
            "handle_color": null
          }
        },
        "142c0c1f746d4360821c07a63ed90c26": {
          "model_module": "@jupyter-widgets/base",
          "model_name": "LayoutModel",
          "model_module_version": "1.2.0",
          "state": {
            "_model_module": "@jupyter-widgets/base",
            "_model_module_version": "1.2.0",
            "_model_name": "LayoutModel",
            "_view_count": null,
            "_view_module": "@jupyter-widgets/base",
            "_view_module_version": "1.2.0",
            "_view_name": "LayoutView",
            "align_content": null,
            "align_items": null,
            "align_self": null,
            "border": null,
            "bottom": null,
            "display": null,
            "flex": null,
            "flex_flow": null,
            "grid_area": null,
            "grid_auto_columns": null,
            "grid_auto_flow": null,
            "grid_auto_rows": null,
            "grid_column": null,
            "grid_gap": null,
            "grid_row": null,
            "grid_template_areas": null,
            "grid_template_columns": null,
            "grid_template_rows": null,
            "height": null,
            "justify_content": null,
            "justify_items": null,
            "left": null,
            "margin": null,
            "max_height": null,
            "max_width": null,
            "min_height": null,
            "min_width": null,
            "object_fit": null,
            "object_position": null,
            "order": null,
            "overflow": null,
            "overflow_x": null,
            "overflow_y": null,
            "padding": null,
            "right": null,
            "top": null,
            "visibility": null,
            "width": null
          }
        },
        "867f2be7ffd049c9829d6abac135c5f4": {
          "model_module": "@jupyter-widgets/controls",
          "model_name": "ButtonStyleModel",
          "model_module_version": "1.5.0",
          "state": {
            "_model_module": "@jupyter-widgets/controls",
            "_model_module_version": "1.5.0",
            "_model_name": "ButtonStyleModel",
            "_view_count": null,
            "_view_module": "@jupyter-widgets/base",
            "_view_module_version": "1.2.0",
            "_view_name": "StyleView",
            "button_color": null,
            "font_weight": ""
          }
        },
        "51a87197215145c59b124c28fde6c78a": {
          "model_module": "@jupyter-widgets/base",
          "model_name": "LayoutModel",
          "model_module_version": "1.2.0",
          "state": {
            "_model_module": "@jupyter-widgets/base",
            "_model_module_version": "1.2.0",
            "_model_name": "LayoutModel",
            "_view_count": null,
            "_view_module": "@jupyter-widgets/base",
            "_view_module_version": "1.2.0",
            "_view_name": "LayoutView",
            "align_content": null,
            "align_items": null,
            "align_self": null,
            "border": null,
            "bottom": null,
            "display": null,
            "flex": null,
            "flex_flow": null,
            "grid_area": null,
            "grid_auto_columns": null,
            "grid_auto_flow": null,
            "grid_auto_rows": null,
            "grid_column": null,
            "grid_gap": null,
            "grid_row": null,
            "grid_template_areas": null,
            "grid_template_columns": null,
            "grid_template_rows": null,
            "height": null,
            "justify_content": null,
            "justify_items": null,
            "left": null,
            "margin": null,
            "max_height": null,
            "max_width": null,
            "min_height": null,
            "min_width": null,
            "object_fit": null,
            "object_position": null,
            "order": null,
            "overflow": null,
            "overflow_x": null,
            "overflow_y": null,
            "padding": null,
            "right": null,
            "top": null,
            "visibility": null,
            "width": null
          }
        }
      }
    }
  },
  "cells": [
    {
      "cell_type": "markdown",
      "metadata": {
        "id": "view-in-github",
        "colab_type": "text"
      },
      "source": [
        "<a href=\"https://colab.research.google.com/github/frank22004/GenAI/blob/main/GenAI%E6%9C%9F%E6%9C%AB%E5%B0%88%E9%A1%8C.ipynb\" target=\"_parent\"><img src=\"https://colab.research.google.com/assets/colab-badge.svg\" alt=\"Open In Colab\"/></a>"
      ]
    },
    {
      "cell_type": "markdown",
      "source": [
        "## 1.1 安裝套件"
      ],
      "metadata": {
        "id": "SjJ77VucuyGK"
      }
    },
    {
      "cell_type": "code",
      "execution_count": 71,
      "metadata": {
        "id": "Gug8Q4BIufH2",
        "colab": {
          "base_uri": "https://localhost:8080/"
        },
        "outputId": "98cde6dc-99cc-46a3-fbfb-4f9a17fd9054"
      },
      "outputs": [
        {
          "output_type": "stream",
          "name": "stdout",
          "text": [
            "Requirement already satisfied: langchain in /usr/local/lib/python3.11/dist-packages (0.3.25)\n",
            "Requirement already satisfied: langchain-community in /usr/local/lib/python3.11/dist-packages (0.3.24)\n",
            "Requirement already satisfied: pypdf in /usr/local/lib/python3.11/dist-packages (5.6.0)\n",
            "Requirement already satisfied: python-docx in /usr/local/lib/python3.11/dist-packages (1.1.2)\n",
            "Requirement already satisfied: sentence-transformers in /usr/local/lib/python3.11/dist-packages (4.1.0)\n",
            "Requirement already satisfied: faiss-cpu in /usr/local/lib/python3.11/dist-packages (1.11.0)\n",
            "Requirement already satisfied: gradio in /usr/local/lib/python3.11/dist-packages (5.32.1)\n",
            "Requirement already satisfied: openai in /usr/local/lib/python3.11/dist-packages (1.83.0)\n",
            "Requirement already satisfied: wordcloud in /usr/local/lib/python3.11/dist-packages (1.9.4)\n",
            "Requirement already satisfied: dash in /usr/local/lib/python3.11/dist-packages (3.0.4)\n",
            "Requirement already satisfied: fuss in /usr/local/lib/python3.11/dist-packages (0.2)\n",
            "Requirement already satisfied: fuzzywuzzy in /usr/local/lib/python3.11/dist-packages (0.18.0)\n",
            "Requirement already satisfied: langchain-core<1.0.0,>=0.3.58 in /usr/local/lib/python3.11/dist-packages (from langchain) (0.3.60)\n",
            "Requirement already satisfied: langchain-text-splitters<1.0.0,>=0.3.8 in /usr/local/lib/python3.11/dist-packages (from langchain) (0.3.8)\n",
            "Requirement already satisfied: langsmith<0.4,>=0.1.17 in /usr/local/lib/python3.11/dist-packages (from langchain) (0.3.42)\n",
            "Requirement already satisfied: pydantic<3.0.0,>=2.7.4 in /usr/local/lib/python3.11/dist-packages (from langchain) (2.11.4)\n",
            "Requirement already satisfied: SQLAlchemy<3,>=1.4 in /usr/local/lib/python3.11/dist-packages (from langchain) (2.0.41)\n",
            "Requirement already satisfied: requests<3,>=2 in /usr/local/lib/python3.11/dist-packages (from langchain) (2.32.3)\n",
            "Requirement already satisfied: PyYAML>=5.3 in /usr/local/lib/python3.11/dist-packages (from langchain) (6.0.2)\n",
            "Requirement already satisfied: aiohttp<4.0.0,>=3.8.3 in /usr/local/lib/python3.11/dist-packages (from langchain-community) (3.11.15)\n",
            "Requirement already satisfied: tenacity!=8.4.0,<10,>=8.1.0 in /usr/local/lib/python3.11/dist-packages (from langchain-community) (9.1.2)\n",
            "Requirement already satisfied: dataclasses-json<0.7,>=0.5.7 in /usr/local/lib/python3.11/dist-packages (from langchain-community) (0.6.7)\n",
            "Requirement already satisfied: pydantic-settings<3.0.0,>=2.4.0 in /usr/local/lib/python3.11/dist-packages (from langchain-community) (2.9.1)\n",
            "Requirement already satisfied: httpx-sse<1.0.0,>=0.4.0 in /usr/local/lib/python3.11/dist-packages (from langchain-community) (0.4.0)\n",
            "Requirement already satisfied: numpy>=1.26.2 in /usr/local/lib/python3.11/dist-packages (from langchain-community) (2.0.2)\n",
            "Requirement already satisfied: lxml>=3.1.0 in /usr/local/lib/python3.11/dist-packages (from python-docx) (5.4.0)\n",
            "Requirement already satisfied: typing-extensions>=4.9.0 in /usr/local/lib/python3.11/dist-packages (from python-docx) (4.13.2)\n",
            "Requirement already satisfied: transformers<5.0.0,>=4.41.0 in /usr/local/lib/python3.11/dist-packages (from sentence-transformers) (4.52.2)\n",
            "Requirement already satisfied: tqdm in /usr/local/lib/python3.11/dist-packages (from sentence-transformers) (4.67.1)\n",
            "Requirement already satisfied: torch>=1.11.0 in /usr/local/lib/python3.11/dist-packages (from sentence-transformers) (2.6.0+cu124)\n",
            "Requirement already satisfied: scikit-learn in /usr/local/lib/python3.11/dist-packages (from sentence-transformers) (1.6.1)\n",
            "Requirement already satisfied: scipy in /usr/local/lib/python3.11/dist-packages (from sentence-transformers) (1.15.3)\n",
            "Requirement already satisfied: huggingface-hub>=0.20.0 in /usr/local/lib/python3.11/dist-packages (from sentence-transformers) (0.31.4)\n",
            "Requirement already satisfied: Pillow in /usr/local/lib/python3.11/dist-packages (from sentence-transformers) (11.2.1)\n",
            "Requirement already satisfied: packaging in /usr/local/lib/python3.11/dist-packages (from faiss-cpu) (24.2)\n",
            "Requirement already satisfied: aiofiles<25.0,>=22.0 in /usr/local/lib/python3.11/dist-packages (from gradio) (24.1.0)\n",
            "Requirement already satisfied: anyio<5.0,>=3.0 in /usr/local/lib/python3.11/dist-packages (from gradio) (4.9.0)\n",
            "Requirement already satisfied: fastapi<1.0,>=0.115.2 in /usr/local/lib/python3.11/dist-packages (from gradio) (0.115.12)\n",
            "Requirement already satisfied: ffmpy in /usr/local/lib/python3.11/dist-packages (from gradio) (0.6.0)\n",
            "Requirement already satisfied: gradio-client==1.10.2 in /usr/local/lib/python3.11/dist-packages (from gradio) (1.10.2)\n",
            "Requirement already satisfied: groovy~=0.1 in /usr/local/lib/python3.11/dist-packages (from gradio) (0.1.2)\n",
            "Requirement already satisfied: httpx>=0.24.1 in /usr/local/lib/python3.11/dist-packages (from gradio) (0.28.1)\n",
            "Requirement already satisfied: jinja2<4.0 in /usr/local/lib/python3.11/dist-packages (from gradio) (3.1.6)\n",
            "Requirement already satisfied: markupsafe<4.0,>=2.0 in /usr/local/lib/python3.11/dist-packages (from gradio) (3.0.2)\n",
            "Requirement already satisfied: orjson~=3.0 in /usr/local/lib/python3.11/dist-packages (from gradio) (3.10.18)\n",
            "Requirement already satisfied: pandas<3.0,>=1.0 in /usr/local/lib/python3.11/dist-packages (from gradio) (2.2.2)\n",
            "Requirement already satisfied: pydub in /usr/local/lib/python3.11/dist-packages (from gradio) (0.25.1)\n",
            "Requirement already satisfied: python-multipart>=0.0.18 in /usr/local/lib/python3.11/dist-packages (from gradio) (0.0.20)\n",
            "Requirement already satisfied: ruff>=0.9.3 in /usr/local/lib/python3.11/dist-packages (from gradio) (0.11.12)\n",
            "Requirement already satisfied: safehttpx<0.2.0,>=0.1.6 in /usr/local/lib/python3.11/dist-packages (from gradio) (0.1.6)\n",
            "Requirement already satisfied: semantic-version~=2.0 in /usr/local/lib/python3.11/dist-packages (from gradio) (2.10.0)\n",
            "Requirement already satisfied: starlette<1.0,>=0.40.0 in /usr/local/lib/python3.11/dist-packages (from gradio) (0.46.2)\n",
            "Requirement already satisfied: tomlkit<0.14.0,>=0.12.0 in /usr/local/lib/python3.11/dist-packages (from gradio) (0.13.2)\n",
            "Requirement already satisfied: typer<1.0,>=0.12 in /usr/local/lib/python3.11/dist-packages (from gradio) (0.15.3)\n",
            "Requirement already satisfied: uvicorn>=0.14.0 in /usr/local/lib/python3.11/dist-packages (from gradio) (0.34.3)\n",
            "Requirement already satisfied: fsspec in /usr/local/lib/python3.11/dist-packages (from gradio-client==1.10.2->gradio) (2025.3.2)\n",
            "Requirement already satisfied: websockets<16.0,>=10.0 in /usr/local/lib/python3.11/dist-packages (from gradio-client==1.10.2->gradio) (15.0.1)\n",
            "Requirement already satisfied: distro<2,>=1.7.0 in /usr/local/lib/python3.11/dist-packages (from openai) (1.9.0)\n",
            "Requirement already satisfied: jiter<1,>=0.4.0 in /usr/local/lib/python3.11/dist-packages (from openai) (0.10.0)\n",
            "Requirement already satisfied: sniffio in /usr/local/lib/python3.11/dist-packages (from openai) (1.3.1)\n",
            "Requirement already satisfied: matplotlib in /usr/local/lib/python3.11/dist-packages (from wordcloud) (3.10.0)\n",
            "Requirement already satisfied: Flask<3.1,>=1.0.4 in /usr/local/lib/python3.11/dist-packages (from dash) (3.0.3)\n",
            "Requirement already satisfied: Werkzeug<3.1 in /usr/local/lib/python3.11/dist-packages (from dash) (3.0.6)\n",
            "Requirement already satisfied: plotly>=5.0.0 in /usr/local/lib/python3.11/dist-packages (from dash) (5.24.1)\n",
            "Requirement already satisfied: importlib-metadata in /usr/local/lib/python3.11/dist-packages (from dash) (8.7.0)\n",
            "Requirement already satisfied: retrying in /usr/local/lib/python3.11/dist-packages (from dash) (1.3.4)\n",
            "Requirement already satisfied: nest-asyncio in /usr/local/lib/python3.11/dist-packages (from dash) (1.6.0)\n",
            "Requirement already satisfied: setuptools in /usr/local/lib/python3.11/dist-packages (from dash) (75.2.0)\n",
            "Requirement already satisfied: aiohappyeyeballs>=2.3.0 in /usr/local/lib/python3.11/dist-packages (from aiohttp<4.0.0,>=3.8.3->langchain-community) (2.6.1)\n",
            "Requirement already satisfied: aiosignal>=1.1.2 in /usr/local/lib/python3.11/dist-packages (from aiohttp<4.0.0,>=3.8.3->langchain-community) (1.3.2)\n",
            "Requirement already satisfied: attrs>=17.3.0 in /usr/local/lib/python3.11/dist-packages (from aiohttp<4.0.0,>=3.8.3->langchain-community) (25.3.0)\n",
            "Requirement already satisfied: frozenlist>=1.1.1 in /usr/local/lib/python3.11/dist-packages (from aiohttp<4.0.0,>=3.8.3->langchain-community) (1.6.0)\n",
            "Requirement already satisfied: multidict<7.0,>=4.5 in /usr/local/lib/python3.11/dist-packages (from aiohttp<4.0.0,>=3.8.3->langchain-community) (6.4.4)\n",
            "Requirement already satisfied: propcache>=0.2.0 in /usr/local/lib/python3.11/dist-packages (from aiohttp<4.0.0,>=3.8.3->langchain-community) (0.3.1)\n",
            "Requirement already satisfied: yarl<2.0,>=1.17.0 in /usr/local/lib/python3.11/dist-packages (from aiohttp<4.0.0,>=3.8.3->langchain-community) (1.20.0)\n",
            "Requirement already satisfied: idna>=2.8 in /usr/local/lib/python3.11/dist-packages (from anyio<5.0,>=3.0->gradio) (3.10)\n",
            "Requirement already satisfied: marshmallow<4.0.0,>=3.18.0 in /usr/local/lib/python3.11/dist-packages (from dataclasses-json<0.7,>=0.5.7->langchain-community) (3.26.1)\n",
            "Requirement already satisfied: typing-inspect<1,>=0.4.0 in /usr/local/lib/python3.11/dist-packages (from dataclasses-json<0.7,>=0.5.7->langchain-community) (0.9.0)\n",
            "Requirement already satisfied: itsdangerous>=2.1.2 in /usr/local/lib/python3.11/dist-packages (from Flask<3.1,>=1.0.4->dash) (2.2.0)\n",
            "Requirement already satisfied: click>=8.1.3 in /usr/local/lib/python3.11/dist-packages (from Flask<3.1,>=1.0.4->dash) (8.2.1)\n",
            "Requirement already satisfied: blinker>=1.6.2 in /usr/local/lib/python3.11/dist-packages (from Flask<3.1,>=1.0.4->dash) (1.9.0)\n",
            "Requirement already satisfied: certifi in /usr/local/lib/python3.11/dist-packages (from httpx>=0.24.1->gradio) (2025.4.26)\n",
            "Requirement already satisfied: httpcore==1.* in /usr/local/lib/python3.11/dist-packages (from httpx>=0.24.1->gradio) (1.0.9)\n",
            "Requirement already satisfied: h11>=0.16 in /usr/local/lib/python3.11/dist-packages (from httpcore==1.*->httpx>=0.24.1->gradio) (0.16.0)\n",
            "Requirement already satisfied: filelock in /usr/local/lib/python3.11/dist-packages (from huggingface-hub>=0.20.0->sentence-transformers) (3.18.0)\n",
            "Requirement already satisfied: jsonpatch<2.0,>=1.33 in /usr/local/lib/python3.11/dist-packages (from langchain-core<1.0.0,>=0.3.58->langchain) (1.33)\n",
            "Requirement already satisfied: requests-toolbelt<2.0.0,>=1.0.0 in /usr/local/lib/python3.11/dist-packages (from langsmith<0.4,>=0.1.17->langchain) (1.0.0)\n",
            "Requirement already satisfied: zstandard<0.24.0,>=0.23.0 in /usr/local/lib/python3.11/dist-packages (from langsmith<0.4,>=0.1.17->langchain) (0.23.0)\n",
            "Requirement already satisfied: python-dateutil>=2.8.2 in /usr/local/lib/python3.11/dist-packages (from pandas<3.0,>=1.0->gradio) (2.9.0.post0)\n",
            "Requirement already satisfied: pytz>=2020.1 in /usr/local/lib/python3.11/dist-packages (from pandas<3.0,>=1.0->gradio) (2025.2)\n",
            "Requirement already satisfied: tzdata>=2022.7 in /usr/local/lib/python3.11/dist-packages (from pandas<3.0,>=1.0->gradio) (2025.2)\n",
            "Requirement already satisfied: annotated-types>=0.6.0 in /usr/local/lib/python3.11/dist-packages (from pydantic<3.0.0,>=2.7.4->langchain) (0.7.0)\n",
            "Requirement already satisfied: pydantic-core==2.33.2 in /usr/local/lib/python3.11/dist-packages (from pydantic<3.0.0,>=2.7.4->langchain) (2.33.2)\n",
            "Requirement already satisfied: typing-inspection>=0.4.0 in /usr/local/lib/python3.11/dist-packages (from pydantic<3.0.0,>=2.7.4->langchain) (0.4.1)\n",
            "Requirement already satisfied: python-dotenv>=0.21.0 in /usr/local/lib/python3.11/dist-packages (from pydantic-settings<3.0.0,>=2.4.0->langchain-community) (1.1.0)\n",
            "Requirement already satisfied: charset-normalizer<4,>=2 in /usr/local/lib/python3.11/dist-packages (from requests<3,>=2->langchain) (3.4.2)\n",
            "Requirement already satisfied: urllib3<3,>=1.21.1 in /usr/local/lib/python3.11/dist-packages (from requests<3,>=2->langchain) (2.4.0)\n",
            "Requirement already satisfied: greenlet>=1 in /usr/local/lib/python3.11/dist-packages (from SQLAlchemy<3,>=1.4->langchain) (3.2.2)\n",
            "Requirement already satisfied: networkx in /usr/local/lib/python3.11/dist-packages (from torch>=1.11.0->sentence-transformers) (3.4.2)\n",
            "Requirement already satisfied: nvidia-cuda-nvrtc-cu12==12.4.127 in /usr/local/lib/python3.11/dist-packages (from torch>=1.11.0->sentence-transformers) (12.4.127)\n",
            "Requirement already satisfied: nvidia-cuda-runtime-cu12==12.4.127 in /usr/local/lib/python3.11/dist-packages (from torch>=1.11.0->sentence-transformers) (12.4.127)\n",
            "Requirement already satisfied: nvidia-cuda-cupti-cu12==12.4.127 in /usr/local/lib/python3.11/dist-packages (from torch>=1.11.0->sentence-transformers) (12.4.127)\n",
            "Requirement already satisfied: nvidia-cudnn-cu12==9.1.0.70 in /usr/local/lib/python3.11/dist-packages (from torch>=1.11.0->sentence-transformers) (9.1.0.70)\n",
            "Requirement already satisfied: nvidia-cublas-cu12==12.4.5.8 in /usr/local/lib/python3.11/dist-packages (from torch>=1.11.0->sentence-transformers) (12.4.5.8)\n",
            "Requirement already satisfied: nvidia-cufft-cu12==11.2.1.3 in /usr/local/lib/python3.11/dist-packages (from torch>=1.11.0->sentence-transformers) (11.2.1.3)\n",
            "Requirement already satisfied: nvidia-curand-cu12==10.3.5.147 in /usr/local/lib/python3.11/dist-packages (from torch>=1.11.0->sentence-transformers) (10.3.5.147)\n",
            "Requirement already satisfied: nvidia-cusolver-cu12==11.6.1.9 in /usr/local/lib/python3.11/dist-packages (from torch>=1.11.0->sentence-transformers) (11.6.1.9)\n",
            "Requirement already satisfied: nvidia-cusparse-cu12==12.3.1.170 in /usr/local/lib/python3.11/dist-packages (from torch>=1.11.0->sentence-transformers) (12.3.1.170)\n",
            "Requirement already satisfied: nvidia-cusparselt-cu12==0.6.2 in /usr/local/lib/python3.11/dist-packages (from torch>=1.11.0->sentence-transformers) (0.6.2)\n",
            "Requirement already satisfied: nvidia-nccl-cu12==2.21.5 in /usr/local/lib/python3.11/dist-packages (from torch>=1.11.0->sentence-transformers) (2.21.5)\n",
            "Requirement already satisfied: nvidia-nvtx-cu12==12.4.127 in /usr/local/lib/python3.11/dist-packages (from torch>=1.11.0->sentence-transformers) (12.4.127)\n",
            "Requirement already satisfied: nvidia-nvjitlink-cu12==12.4.127 in /usr/local/lib/python3.11/dist-packages (from torch>=1.11.0->sentence-transformers) (12.4.127)\n",
            "Requirement already satisfied: triton==3.2.0 in /usr/local/lib/python3.11/dist-packages (from torch>=1.11.0->sentence-transformers) (3.2.0)\n",
            "Requirement already satisfied: sympy==1.13.1 in /usr/local/lib/python3.11/dist-packages (from torch>=1.11.0->sentence-transformers) (1.13.1)\n",
            "Requirement already satisfied: mpmath<1.4,>=1.1.0 in /usr/local/lib/python3.11/dist-packages (from sympy==1.13.1->torch>=1.11.0->sentence-transformers) (1.3.0)\n",
            "Requirement already satisfied: regex!=2019.12.17 in /usr/local/lib/python3.11/dist-packages (from transformers<5.0.0,>=4.41.0->sentence-transformers) (2024.11.6)\n",
            "Requirement already satisfied: tokenizers<0.22,>=0.21 in /usr/local/lib/python3.11/dist-packages (from transformers<5.0.0,>=4.41.0->sentence-transformers) (0.21.1)\n",
            "Requirement already satisfied: safetensors>=0.4.3 in /usr/local/lib/python3.11/dist-packages (from transformers<5.0.0,>=4.41.0->sentence-transformers) (0.5.3)\n",
            "Requirement already satisfied: shellingham>=1.3.0 in /usr/local/lib/python3.11/dist-packages (from typer<1.0,>=0.12->gradio) (1.5.4)\n",
            "Requirement already satisfied: rich>=10.11.0 in /usr/local/lib/python3.11/dist-packages (from typer<1.0,>=0.12->gradio) (13.9.4)\n",
            "Requirement already satisfied: zipp>=3.20 in /usr/local/lib/python3.11/dist-packages (from importlib-metadata->dash) (3.21.0)\n",
            "Requirement already satisfied: contourpy>=1.0.1 in /usr/local/lib/python3.11/dist-packages (from matplotlib->wordcloud) (1.3.2)\n",
            "Requirement already satisfied: cycler>=0.10 in /usr/local/lib/python3.11/dist-packages (from matplotlib->wordcloud) (0.12.1)\n",
            "Requirement already satisfied: fonttools>=4.22.0 in /usr/local/lib/python3.11/dist-packages (from matplotlib->wordcloud) (4.58.0)\n",
            "Requirement already satisfied: kiwisolver>=1.3.1 in /usr/local/lib/python3.11/dist-packages (from matplotlib->wordcloud) (1.4.8)\n",
            "Requirement already satisfied: pyparsing>=2.3.1 in /usr/local/lib/python3.11/dist-packages (from matplotlib->wordcloud) (3.2.3)\n",
            "Requirement already satisfied: six>=1.7.0 in /usr/local/lib/python3.11/dist-packages (from retrying->dash) (1.17.0)\n",
            "Requirement already satisfied: joblib>=1.2.0 in /usr/local/lib/python3.11/dist-packages (from scikit-learn->sentence-transformers) (1.5.0)\n",
            "Requirement already satisfied: threadpoolctl>=3.1.0 in /usr/local/lib/python3.11/dist-packages (from scikit-learn->sentence-transformers) (3.6.0)\n",
            "Requirement already satisfied: jsonpointer>=1.9 in /usr/local/lib/python3.11/dist-packages (from jsonpatch<2.0,>=1.33->langchain-core<1.0.0,>=0.3.58->langchain) (3.0.0)\n",
            "Requirement already satisfied: markdown-it-py>=2.2.0 in /usr/local/lib/python3.11/dist-packages (from rich>=10.11.0->typer<1.0,>=0.12->gradio) (3.0.0)\n",
            "Requirement already satisfied: pygments<3.0.0,>=2.13.0 in /usr/local/lib/python3.11/dist-packages (from rich>=10.11.0->typer<1.0,>=0.12->gradio) (2.19.1)\n",
            "Requirement already satisfied: mypy-extensions>=0.3.0 in /usr/local/lib/python3.11/dist-packages (from typing-inspect<1,>=0.4.0->dataclasses-json<0.7,>=0.5.7->langchain-community) (1.1.0)\n",
            "Requirement already satisfied: mdurl~=0.1 in /usr/local/lib/python3.11/dist-packages (from markdown-it-py>=2.2.0->rich>=10.11.0->typer<1.0,>=0.12->gradio) (0.1.2)\n"
          ]
        }
      ],
      "source": [
        "!pip install -U langchain langchain-community pypdf python-docx sentence-transformers faiss-cpu gradio openai wordcloud dash fuss fuzzywuzzy"
      ]
    },
    {
      "cell_type": "markdown",
      "source": [
        "安裝中文字體"
      ],
      "metadata": {
        "id": "OsxGUn5oQSXn"
      }
    },
    {
      "cell_type": "code",
      "source": [
        "!wget -O TaipeiSansTCBeta-Regular.ttf https://drive.google.com/uc?id=1eGAsTN1HBpJAkeVM57_C7ccp7hbgSz3_&export=download"
      ],
      "metadata": {
        "id": "FXXvjuVyQQi2",
        "colab": {
          "base_uri": "https://localhost:8080/"
        },
        "outputId": "700a5d92-aec8-43fd-ae3a-5437564bcf0d"
      },
      "execution_count": 72,
      "outputs": [
        {
          "output_type": "stream",
          "name": "stdout",
          "text": [
            "--2025-06-03 09:01:22--  https://drive.google.com/uc?id=1eGAsTN1HBpJAkeVM57_C7ccp7hbgSz3_\n",
            "Resolving drive.google.com (drive.google.com)... 142.250.125.113, 142.250.125.138, 142.250.125.139, ...\n",
            "Connecting to drive.google.com (drive.google.com)|142.250.125.113|:443... connected.\n",
            "HTTP request sent, awaiting response... 303 See Other\n",
            "Location: https://drive.usercontent.google.com/download?id=1eGAsTN1HBpJAkeVM57_C7ccp7hbgSz3_ [following]\n",
            "--2025-06-03 09:01:22--  https://drive.usercontent.google.com/download?id=1eGAsTN1HBpJAkeVM57_C7ccp7hbgSz3_\n",
            "Resolving drive.usercontent.google.com (drive.usercontent.google.com)... 173.194.206.132, 2607:f8b0:4001:c62::84\n",
            "Connecting to drive.usercontent.google.com (drive.usercontent.google.com)|173.194.206.132|:443... connected.\n",
            "HTTP request sent, awaiting response... 200 OK\n",
            "Length: 20659344 (20M) [application/octet-stream]\n",
            "Saving to: ‘TaipeiSansTCBeta-Regular.ttf’\n",
            "\n",
            "TaipeiSansTCBeta-Re 100%[===================>]  19.70M  --.-KB/s    in 0.1s    \n",
            "\n",
            "2025-06-03 09:01:25 (136 MB/s) - ‘TaipeiSansTCBeta-Regular.ttf’ saved [20659344/20659344]\n",
            "\n"
          ]
        }
      ]
    },
    {
      "cell_type": "markdown",
      "source": [
        "載入套件"
      ],
      "metadata": {
        "id": "p1D6dzmNRroF"
      }
    },
    {
      "cell_type": "code",
      "source": [
        "# 載入必要套件\n",
        "%matplotlib inline\n",
        "import numpy as np\n",
        "import pandas as pd\n",
        "import matplotlib.pyplot as plt\n",
        "\n",
        "# 文字雲\n",
        "from wordcloud import WordCloud\n",
        "\n",
        "import os\n",
        "from openai import OpenAI\n",
        "import gradio as gr\n",
        "\n",
        "# 互動設計用\n",
        "from ipywidgets import interact_manual\n",
        "\n",
        "from google.colab import userdata\n",
        "\n",
        "# 文件分析\n",
        "from langchain_community.document_loaders import TextLoader\n",
        "from langchain.text_splitter import RecursiveCharacterTextSplitter\n",
        "from langchain.embeddings import HuggingFaceEmbeddings\n",
        "from langchain.vectorstores import FAISS\n",
        "from langchain.chat_models import ChatOpenAI\n",
        "from langchain.chains import ConversationalRetrievalChain\n",
        "from langchain.schema import Document\n",
        "\n",
        "# 模糊比對\n",
        "from fuzzywuzzy import fuzz, process"
      ],
      "metadata": {
        "id": "z-qowPN5xVgf"
      },
      "execution_count": 73,
      "outputs": []
    },
    {
      "cell_type": "code",
      "source": [
        "from langchain.embeddings import HuggingFaceEmbeddings\n",
        "\n",
        "class CustomE5Embedding(HuggingFaceEmbeddings):\n",
        "    def embed_documents(self, texts):\n",
        "        texts = [f\"passage: {t}\" for t in texts]\n",
        "        return super().embed_documents(texts)\n",
        "\n",
        "    def embed_query(self, text):\n",
        "        return super().embed_query(f\"query: {text}\")"
      ],
      "metadata": {
        "id": "Fjp6aPiXHwvN"
      },
      "execution_count": 74,
      "outputs": []
    },
    {
      "cell_type": "markdown",
      "source": [
        "## 1.2. 設定LLM\n",
        "\n",
        "  ### 1.2.1 設定API來自Llama 3-70b"
      ],
      "metadata": {
        "id": "wLm-6WdHyN6U"
      }
    },
    {
      "cell_type": "code",
      "source": [
        "api_key = userdata.get('Groq')\n",
        "os.environ[\"OPENAI_API_KEY\"] = api_key\n",
        "model = \"llama3-70b-8192\"\n",
        "base_url=\"https://api.groq.com/openai/v1\""
      ],
      "metadata": {
        "id": "JIuRDz8RyQeT"
      },
      "execution_count": 75,
      "outputs": []
    },
    {
      "cell_type": "markdown",
      "source": [
        "### 1.2.2 設定OpenAI跟Prompt"
      ],
      "metadata": {
        "id": "YoL1E71Zy3W4"
      }
    },
    {
      "cell_type": "code",
      "source": [
        "client = OpenAI(\n",
        "    base_url=base_url\n",
        ")\n",
        "\n",
        "system_prompt = \"你是臨床心理與照護的專家，請根據患者書寫的日記。請分析當下情緒，並給予適當鼓勵。請務必用台灣的中文回應。\""
      ],
      "metadata": {
        "id": "6dwenYX3y8rZ"
      },
      "execution_count": 76,
      "outputs": []
    },
    {
      "cell_type": "markdown",
      "source": [
        "### 1.2.3. AI agent test-run"
      ],
      "metadata": {
        "id": "TPH6vco2-Xp-"
      }
    },
    {
      "cell_type": "code",
      "source": [
        "prompt = \"今天的下午改變了我整個人生。醫生告訴我：「是乳癌，第二期。」我愣住了，什麼話都說不出來。那一瞬間，我的心跳變得好快，耳邊像嗡嗡作響，世界彷彿靜止。怎麼可能？我才三十八歲，身體一向健康，也沒有家族病史，怎麼會是我？我一直在想，是不是報告弄錯了？是不是只是良性腫瘤？但醫生的眼神很肯定，沒有空間懷疑。\"\n",
        "\n",
        "\n",
        "messages = [\n",
        "    {\"role\": \"system\", \"content\": system_prompt},\n",
        "    {\"role\": \"user\", \"content\": prompt}\n",
        "]"
      ],
      "metadata": {
        "id": "yMnrrH1n-Z40"
      },
      "execution_count": 77,
      "outputs": []
    },
    {
      "cell_type": "code",
      "source": [
        "response = client.chat.completions.create(\n",
        "    model=model,\n",
        "    messages=messages\n",
        "    )\n",
        "\n",
        "print(response.choices[0].message.content)"
      ],
      "metadata": {
        "id": "viBTcPxy-n5O",
        "colab": {
          "base_uri": "https://localhost:8080/"
        },
        "outputId": "5f17bdd4-e9a4-4b4d-faba-77223988a649"
      },
      "execution_count": 78,
      "outputs": [
        {
          "output_type": "stream",
          "name": "stdout",
          "text": [
            "我可以感受到你的驚駭、困惑和panic。你收到這個 Nachricht 的瞬間，整個世界似乎停頓下來了。你會有很多的疑問和恐懼，但最重要的是，你現在需要的是支持和信心。\n",
            "\n",
            "首先，讓我們承認你的情緒都是正常的。你不需要覺得自己應該強忍或假裝堅強。你的反應是非常健康的，因為你是在表達自己的情感和恐懼。\n",
            "\n",
            "對於醫生的診斷，你自然會有疑惑和不確定性。但是，醫生的判斷通常是根據實際情況和臨床經驗的。你可以和醫生討論更多的細節，了解自己的病情和治療選擇。\n",
            "\n",
            "現在最重要的是，你的家人和朋友也需要支持你。你可以和他們分享你的感受和擔憂，讓他們給你 emocional 支持。\n",
            "\n",
            "最後，請記住，你並不是單打獨鬥的。有很多人和組織可以幫助你度過這個困難的時刻。你可以尋找乳癌支持團體、心理咨商和其他資源，幫助你在這個旅途上走下去。\n",
            "\n",
            "你是一個強壯的人，三十八歲的你更需要相信自己的能力和韌性。讓我們一起面對這個挑戰，並讓你的生命充滿更多的希望和勇敢！\n"
          ]
        }
      ]
    },
    {
      "cell_type": "markdown",
      "source": [
        "## 1.3 讀取NTUSD中文正負向詞彙字典\n",
        "\n",
        "台灣大學自然語言處理實驗室(NTU Natural Language Processing Laboratory)[陳信希教授團隊](https://nlg.csie.ntu.edu.tw/advisor.php)，利用Jieba斷詞和Naive Bayes分類器所建立中文情緒辭典(NTUSD)，其涵蓋8277個負面情緒詞跟2810個正面情緒詞。\n",
        "\n",
        "故下載Github的NTUSD專案"
      ],
      "metadata": {
        "id": "ZPNqVA5HBfjF"
      }
    },
    {
      "cell_type": "code",
      "source": [
        "!git clone https://github.com/sweslo17/chinese_sentiment.git"
      ],
      "metadata": {
        "id": "Cs0aPxmHBmh3",
        "colab": {
          "base_uri": "https://localhost:8080/"
        },
        "outputId": "1930b5e8-3fb2-4597-833a-1338ada0aaef"
      },
      "execution_count": 79,
      "outputs": [
        {
          "output_type": "stream",
          "name": "stdout",
          "text": [
            "fatal: destination path 'chinese_sentiment' already exists and is not an empty directory.\n"
          ]
        }
      ]
    },
    {
      "cell_type": "markdown",
      "source": [
        "### 1.3.1. 將txt轉成List"
      ],
      "metadata": {
        "id": "rXgEnrO3wVyz"
      }
    },
    {
      "cell_type": "code",
      "source": [
        "postiveEmo = TextLoader('/content/chinese_sentiment/dict/ntusd-positive.txt')\n",
        "negativeEmo = TextLoader('/content/chinese_sentiment/dict/ntusd-negative.txt')"
      ],
      "metadata": {
        "id": "gQvHAfxMCZrE"
      },
      "execution_count": 81,
      "outputs": []
    },
    {
      "cell_type": "code",
      "source": [
        "postiveEmo = postiveEmo.load()\n",
        "negativeEmo = negativeEmo.load()"
      ],
      "metadata": {
        "id": "SfdlAGxDDtvp"
      },
      "execution_count": 82,
      "outputs": []
    },
    {
      "cell_type": "code",
      "source": [
        "postiveEmo = postiveEmo[0].page_content.split('\\n')\n",
        "negativeEmo = negativeEmo[0].page_content.split('\\n')"
      ],
      "metadata": {
        "id": "mW_wn9gXD1kJ"
      },
      "execution_count": 83,
      "outputs": []
    },
    {
      "cell_type": "code",
      "source": [
        "postiveEmo = [i.split('\\t')[0] for i in postiveEmo]\n",
        "negativeEmo = [i.split('\\t')[0] for i in negativeEmo]"
      ],
      "metadata": {
        "id": "qd1iAyNSD-gt"
      },
      "execution_count": 84,
      "outputs": []
    },
    {
      "cell_type": "markdown",
      "source": [
        "#### 顯示正面情緒詞"
      ],
      "metadata": {
        "id": "TIpzhzZuwqoJ"
      }
    },
    {
      "cell_type": "code",
      "source": [
        "def print_pos(n=0):\n",
        "    print(postiveEmo[n])\n",
        "\n",
        "interact_manual(print_pos,n=(0,len(postiveEmo)-1))"
      ],
      "metadata": {
        "id": "XARq3KiGEB-f",
        "colab": {
          "base_uri": "https://localhost:8080/",
          "height": 185,
          "referenced_widgets": [
            "53ced4f1133d4187a0c01edee73b5c4a",
            "94ee7734fd9f4080912e81d76adf50f1",
            "e766f7351c8443f19e957cba35cfd1e4",
            "ad3edd63f09b4c4db4dc90c6d76e18a9",
            "2a11b53d491945a699e5d5e270a2ed07",
            "13db688cff37466c8560c5c2b1c85596",
            "cad3c6d5bb964efa8080a129b527be53",
            "1e75d41b0bdf47cc9f7b29c533c1b93c",
            "719707565135478eaed990917e46623d",
            "f51e99002b864cc4b88e453979daa4a0"
          ]
        },
        "outputId": "7003c349-24e1-4d64-d444-cc8ecd1ff902"
      },
      "execution_count": 85,
      "outputs": [
        {
          "output_type": "display_data",
          "data": {
            "text/plain": [
              "interactive(children=(IntSlider(value=0, description='n', max=2809), Button(description='Run Interact', style=…"
            ],
            "application/vnd.jupyter.widget-view+json": {
              "version_major": 2,
              "version_minor": 0,
              "model_id": "53ced4f1133d4187a0c01edee73b5c4a"
            }
          },
          "metadata": {}
        },
        {
          "output_type": "execute_result",
          "data": {
            "text/plain": [
              "<function __main__.print_pos(n=0)>"
            ],
            "text/html": [
              "<div style=\"max-width:800px; border: 1px solid var(--colab-border-color);\"><style>\n",
              "      pre.function-repr-contents {\n",
              "        overflow-x: auto;\n",
              "        padding: 8px 12px;\n",
              "        max-height: 500px;\n",
              "      }\n",
              "\n",
              "      pre.function-repr-contents.function-repr-contents-collapsed {\n",
              "        cursor: pointer;\n",
              "        max-height: 100px;\n",
              "      }\n",
              "    </style>\n",
              "    <pre style=\"white-space: initial; background:\n",
              "         var(--colab-secondary-surface-color); padding: 8px 12px;\n",
              "         border-bottom: 1px solid var(--colab-border-color);\"><b>print_pos</b><br/>def print_pos(n=0)</pre><pre class=\"function-repr-contents function-repr-contents-collapsed\" style=\"\"><a class=\"filepath\" style=\"display:none\" href=\"#\">/content/&lt;ipython-input-85-a3d9ad8bf851&gt;</a>&lt;no docstring&gt;</pre></div>"
            ]
          },
          "metadata": {},
          "execution_count": 85
        }
      ]
    },
    {
      "cell_type": "markdown",
      "source": [
        "#### 顯示負面情緒詞"
      ],
      "metadata": {
        "id": "dVWxRNXGw2A6"
      }
    },
    {
      "cell_type": "code",
      "source": [
        "def print_neg(n=0):\n",
        "    print(negativeEmo[n])\n",
        "\n",
        "interact_manual(print_neg,n=(0,len(negativeEmo)-1))"
      ],
      "metadata": {
        "id": "sk8Xc216EwBu",
        "colab": {
          "base_uri": "https://localhost:8080/",
          "height": 185,
          "referenced_widgets": [
            "7872cbafc68c4f3088ee88cc54f230f8",
            "306876e61f394f739f630f20e14a7468",
            "0072eeedefd342e68e29b2668c9e1ec7",
            "c24461b2d80d4ae488d9c17ec6b26bec",
            "7f020b30adbd4f99beeb10233b9af866",
            "ae0f9127d64941b2b964fa25234ab6fc",
            "3389f5c1fceb4f89a81ccd2eff8fb50f",
            "142c0c1f746d4360821c07a63ed90c26",
            "867f2be7ffd049c9829d6abac135c5f4",
            "51a87197215145c59b124c28fde6c78a"
          ]
        },
        "outputId": "3ccae82a-e8cb-43ff-89f6-6425012b9293"
      },
      "execution_count": 86,
      "outputs": [
        {
          "output_type": "display_data",
          "data": {
            "text/plain": [
              "interactive(children=(IntSlider(value=0, description='n', max=8277), Button(description='Run Interact', style=…"
            ],
            "application/vnd.jupyter.widget-view+json": {
              "version_major": 2,
              "version_minor": 0,
              "model_id": "7872cbafc68c4f3088ee88cc54f230f8"
            }
          },
          "metadata": {}
        },
        {
          "output_type": "execute_result",
          "data": {
            "text/plain": [
              "<function __main__.print_neg(n=0)>"
            ],
            "text/html": [
              "<div style=\"max-width:800px; border: 1px solid var(--colab-border-color);\"><style>\n",
              "      pre.function-repr-contents {\n",
              "        overflow-x: auto;\n",
              "        padding: 8px 12px;\n",
              "        max-height: 500px;\n",
              "      }\n",
              "\n",
              "      pre.function-repr-contents.function-repr-contents-collapsed {\n",
              "        cursor: pointer;\n",
              "        max-height: 100px;\n",
              "      }\n",
              "    </style>\n",
              "    <pre style=\"white-space: initial; background:\n",
              "         var(--colab-secondary-surface-color); padding: 8px 12px;\n",
              "         border-bottom: 1px solid var(--colab-border-color);\"><b>print_neg</b><br/>def print_neg(n=0)</pre><pre class=\"function-repr-contents function-repr-contents-collapsed\" style=\"\"><a class=\"filepath\" style=\"display:none\" href=\"#\">/content/&lt;ipython-input-86-08ea757967b4&gt;</a>&lt;no docstring&gt;</pre></div>"
            ]
          },
          "metadata": {},
          "execution_count": 86
        }
      ]
    },
    {
      "cell_type": "markdown",
      "source": [
        "### 1.3.2. 建立正面情緒向量資料庫"
      ],
      "metadata": {
        "id": "to2E4pa2F286"
      }
    },
    {
      "cell_type": "code",
      "source": [
        "embedding_model = CustomE5Embedding(model_name=\"intfloat/multilingual-e5-small\")\n",
        "\n",
        "# Create Document objects from the list of positive emotion strings\n",
        "positive_documents = [Document(page_content=emo) for emo in postiveEmo]\n",
        "\n",
        "# Pass the list of Document objects to FAISS.from_documents\n",
        "vectorstore_pos = FAISS.from_documents(positive_documents, embedding_model)"
      ],
      "metadata": {
        "id": "Ro3n22QeF2j7"
      },
      "execution_count": 87,
      "outputs": []
    },
    {
      "cell_type": "markdown",
      "source": [
        "嘗試RAG"
      ],
      "metadata": {
        "id": "kiJHGkABK8wx"
      }
    },
    {
      "cell_type": "code",
      "source": [
        "retriever_pos = vectorstore_pos.as_retriever()"
      ],
      "metadata": {
        "id": "FxmL-W3oKtMg"
      },
      "execution_count": 88,
      "outputs": []
    },
    {
      "cell_type": "markdown",
      "source": [
        "AI agent回答的內容"
      ],
      "metadata": {
        "id": "H1OzkvzBLXF-"
      }
    },
    {
      "cell_type": "code",
      "source": [
        "docs = retriever_pos.get_relevant_documents(response.choices[0].message.content)\n",
        "docs"
      ],
      "metadata": {
        "id": "moGG_0sRLJbv",
        "colab": {
          "base_uri": "https://localhost:8080/"
        },
        "outputId": "20e08e57-3be8-41cd-85ab-34cccc2c6be3"
      },
      "execution_count": 89,
      "outputs": [
        {
          "output_type": "execute_result",
          "data": {
            "text/plain": [
              "[Document(id='9c02d8be-5c2c-4835-84dd-3b767736392a', metadata={}, page_content='健康'),\n",
              " Document(id='b35bad42-0ffb-4574-a7d0-ee2207366374', metadata={}, page_content='深切注意的'),\n",
              " Document(id='0f70645c-0f3b-4329-b8b9-5aaf15a36896', metadata={}, page_content='有責任心的'),\n",
              " Document(id='5d05904f-2f84-48d9-9f8d-9ae08b0e6e9b', metadata={}, page_content='有信心')]"
            ]
          },
          "metadata": {},
          "execution_count": 89
        }
      ]
    },
    {
      "cell_type": "markdown",
      "source": [
        "模擬的患者日記"
      ],
      "metadata": {
        "id": "NWQ1923-Lalr"
      }
    },
    {
      "cell_type": "code",
      "source": [
        "docs_pa = retriever_pos.get_relevant_documents(prompt)\n",
        "docs_pa"
      ],
      "metadata": {
        "id": "wOVynWkiLZ_X",
        "colab": {
          "base_uri": "https://localhost:8080/"
        },
        "outputId": "23d481f7-6b27-426c-9779-20b6712d4e2a"
      },
      "execution_count": 90,
      "outputs": [
        {
          "output_type": "execute_result",
          "data": {
            "text/plain": [
              "[Document(id='2f57afa9-0e44-41a2-b2dd-8e3dc2e9ce65', metadata={}, page_content='正常'),\n",
              " Document(id='64c06301-391b-4996-9841-d51e651a073b', metadata={}, page_content='痛快'),\n",
              " Document(id='fefa6b43-fd20-4b8a-a829-7ca4e4616add', metadata={}, page_content='心情愉快'),\n",
              " Document(id='8fa3ed2e-28ef-45f0-bce6-89f1c0a2ade1', metadata={}, page_content='心情愉快的')]"
            ]
          },
          "metadata": {},
          "execution_count": 90
        }
      ]
    },
    {
      "cell_type": "markdown",
      "source": [
        "### 1.3.3 建立負面情緒向量資料庫"
      ],
      "metadata": {
        "id": "Gs7GwRXmL0u9"
      }
    },
    {
      "cell_type": "code",
      "source": [
        "# Create Document objects from the list of positive emotion strings\n",
        "negative_documents = [Document(page_content=emo) for emo in negativeEmo]\n",
        "\n",
        "# Pass the list of Document objects to FAISS.from_documents\n",
        "vectorstore_neg = FAISS.from_documents(negative_documents, embedding_model)"
      ],
      "metadata": {
        "id": "OFLVf0NgMAFE"
      },
      "execution_count": 91,
      "outputs": []
    },
    {
      "cell_type": "markdown",
      "source": [
        "嘗試RAG"
      ],
      "metadata": {
        "id": "fKKC3Ij0NCn6"
      }
    },
    {
      "cell_type": "code",
      "source": [
        "retriever_neg = vectorstore_neg.as_retriever()"
      ],
      "metadata": {
        "id": "1ZcCiNEDNE6x"
      },
      "execution_count": 92,
      "outputs": []
    },
    {
      "cell_type": "markdown",
      "source": [
        "AI agent的回答"
      ],
      "metadata": {
        "id": "QQeOxOaLNKjC"
      }
    },
    {
      "cell_type": "code",
      "source": [
        "doc_neg = retriever_neg.get_relevant_documents(response.choices[0].message.content)\n",
        "doc_neg"
      ],
      "metadata": {
        "id": "KuIuxCT7NOe7",
        "colab": {
          "base_uri": "https://localhost:8080/"
        },
        "outputId": "3d812818-88c5-421f-b795-b1795f8c66bf"
      },
      "execution_count": 93,
      "outputs": [
        {
          "output_type": "execute_result",
          "data": {
            "text/plain": [
              "[Document(id='00f1e4b8-8406-4ce2-8ecc-dd5d41e0b55e', metadata={}, page_content='使窘迫不安'),\n",
              " Document(id='9096cfd7-0d14-45cd-9d86-b5f35b96978e', metadata={}, page_content='自我中心'),\n",
              " Document(id='0b131d06-6657-4884-8e5c-6c4e141d4da8', metadata={}, page_content='窘迫不安'),\n",
              " Document(id='cc2edf19-1e88-4760-b634-c5e6a9ca6ca8', metadata={}, page_content='疑心的')]"
            ]
          },
          "metadata": {},
          "execution_count": 93
        }
      ]
    },
    {
      "cell_type": "markdown",
      "source": [
        "模擬的患者日記"
      ],
      "metadata": {
        "id": "lyob4ZC3NUJb"
      }
    },
    {
      "cell_type": "code",
      "source": [
        "doc_neg_pa = retriever_neg.get_relevant_documents(prompt)\n",
        "doc_neg_pa"
      ],
      "metadata": {
        "id": "_qgDEW-bNXwx",
        "colab": {
          "base_uri": "https://localhost:8080/"
        },
        "outputId": "9e28dc86-34fe-40e8-9a3a-9197dd40934c"
      },
      "execution_count": 94,
      "outputs": [
        {
          "output_type": "execute_result",
          "data": {
            "text/plain": [
              "[Document(id='e8850376-804a-4b27-bec4-1672bc0b615a', metadata={}, page_content='心疼'),\n",
              " Document(id='36df3f0e-e596-4245-9d36-acafeec3fadb', metadata={}, page_content='心痛'),\n",
              " Document(id='63bdbccd-b208-462b-84d4-5cc3f181ae09', metadata={}, page_content='心神不安的'),\n",
              " Document(id='cfec9301-ad8e-4cd6-a78f-6fb10819e852', metadata={}, page_content='痛心的')]"
            ]
          },
          "metadata": {},
          "execution_count": 94
        }
      ]
    },
    {
      "cell_type": "markdown",
      "source": [
        "## 1.4. 分析情緒"
      ],
      "metadata": {
        "id": "Yuc5cX9JsfqI"
      }
    },
    {
      "cell_type": "markdown",
      "source": [
        "### 1.4.1. 正面情緒\n",
        "\n",
        "設定Prompt"
      ],
      "metadata": {
        "id": "G26btoEdxGxE"
      }
    },
    {
      "cell_type": "code",
      "source": [
        "customized_prompt = \"\"\"\n",
        "根據下列情緒字詞：\n",
        "{retrieved_chunks}\n",
        "\n",
        "分析患者的日記：{question}\n",
        "\n",
        "請回覆日記所載內容是否有符合所列情緒字詞，\n",
        "若有請回答「本日記符合以下的情緒」，並列出符合情緒字詞，\n",
        "若沒有符合的情緒，請直接回答「沒有符合的情緒」。\n",
        "\"\"\""
      ],
      "metadata": {
        "id": "quEfvCR-sldV"
      },
      "execution_count": 95,
      "outputs": []
    },
    {
      "cell_type": "code",
      "source": [
        "retrieved_pos_chunks = \"\\n\\n\".join([doc.page_content for doc in docs_pa])\n",
        "\n",
        "# 將自定 prompt 套入格式\n",
        "final_prompt = customized_prompt.format(retrieved_chunks=retrieved_pos_chunks, question=prompt)\n",
        "\n",
        "# 呼叫 OpenAI API\n",
        "response_pos_ana = client.chat.completions.create(\n",
        "  model=model,\n",
        "  messages=[\n",
        "      {\"role\": \"system\", \"content\": system_prompt},\n",
        "      {\"role\": \"user\", \"content\": final_prompt},\n",
        "  ]\n",
        ")\n",
        "\n",
        "answer_pos_ana = response_pos_ana.choices[0].message.content\n",
        "print(answer_pos_ana)"
      ],
      "metadata": {
        "id": "zQhvTLmGxCx9",
        "colab": {
          "base_uri": "https://localhost:8080/"
        },
        "outputId": "6dfb9f32-11b3-4023-c857-f4b950bee920"
      },
      "execution_count": 96,
      "outputs": [
        {
          "output_type": "stream",
          "name": "stdout",
          "text": [
            "本日記不符合以下的情緒：\n",
            "\n",
            "正常、痛快、心情愉快、心情愉快\n",
            "\n",
            "日記中的情緒是驚險、惶恐、困惑、懷疑等負面情緒，但並不包含正常、痛快、「心情愉快」等正面情緒。\n"
          ]
        }
      ]
    },
    {
      "cell_type": "markdown",
      "source": [
        "### 1.4.2. 負面情緒"
      ],
      "metadata": {
        "id": "sBTT3hL4y4ET"
      }
    },
    {
      "cell_type": "code",
      "source": [
        "retrieved_neg_chunks = \"\\n\\n\".join([doc.page_content for doc in doc_neg_pa])\n",
        "\n",
        "# 將自定 prompt 套入格式\n",
        "final_prompt_neg = customized_prompt.format(retrieved_chunks=retrieved_neg_chunks, question=prompt)\n",
        "\n",
        "# 呼叫 OpenAI API\n",
        "response_neg_ana = client.chat.completions.create(\n",
        "  model=model,\n",
        "  messages=[\n",
        "      {\"role\": \"system\", \"content\": system_prompt},\n",
        "      {\"role\": \"user\", \"content\": final_prompt_neg},\n",
        "  ]\n",
        ")\n",
        "\n",
        "print(response_neg_ana.choices[0].message.content)"
      ],
      "metadata": {
        "id": "RnFLNo4-y7vL",
        "colab": {
          "base_uri": "https://localhost:8080/"
        },
        "outputId": "b4d1b1be-be56-4855-ac8b-86dd59165bd8"
      },
      "execution_count": 97,
      "outputs": [
        {
          "output_type": "stream",
          "name": "stdout",
          "text": [
            "本日記符合以下的情緒：\n",
            "\n",
            "* 心疼\n",
            "* 心痛\n",
            "* 心神不安的\n",
            "* 痛心的\n",
            "\n",
            "這位患者在收到診斷結果後，展現出強烈的驚愕、沮喪和不安的情緒。她描述自己的心跳變得很快，耳朵嗡嗡作響，世界彷彿靜止，顯示出她內心的騷亂和痛苦。她的語氣充滿了悲哀、沮喪，尤其是當她質疑醫生的診斷結果時，顯示出她的心神不安和痛心。\n"
          ]
        }
      ]
    },
    {
      "cell_type": "markdown",
      "source": [
        "### 1.4.3. 綜合正負面情緒分析"
      ],
      "metadata": {
        "id": "OF89_EIuzeYU"
      }
    },
    {
      "cell_type": "code",
      "source": [
        "mixed_prompt = \"\"\"\n",
        "根據下列正面情緒字詞：\n",
        "{retrieved_chunks_post}\n",
        "\n",
        "及下列負面情緒字詞:\n",
        "{retrieved_chunks_neg}\n",
        "\n",
        "分析患者的日記：{question}\n",
        "\n",
        "請回覆日記所載內容是否所有符合所列情緒字詞，並繪製情緒雲，\n",
        "若沒有符合的情緒，請直接回答「沒有符合的情緒」。\n",
        "\"\"\""
      ],
      "metadata": {
        "id": "Mhp6vZoxzkUy"
      },
      "execution_count": 98,
      "outputs": []
    },
    {
      "cell_type": "code",
      "source": [
        "# 將自定 prompt 套入格式\n",
        "final_prompt = mixed_prompt.format(retrieved_chunks_post=retrieved_pos_chunks, retrieved_chunks_neg=retrieved_neg_chunks, question=prompt)\n",
        "\n",
        "# 呼叫 OpenAI API\n",
        "response_ana = client.chat.completions.create(\n",
        "  model=model,\n",
        "  messages=[\n",
        "      {\"role\": \"system\", \"content\": mixed_prompt},\n",
        "      {\"role\": \"user\", \"content\": final_prompt},\n",
        "  ]\n",
        ")\n",
        "\n",
        "print(response_ana.choices[0].message.content)"
      ],
      "metadata": {
        "id": "EAEBzxGfKF37",
        "colab": {
          "base_uri": "https://localhost:8080/"
        },
        "outputId": "9a620e39-bf25-41c5-ba9c-b27d5a39cb08"
      },
      "execution_count": 99,
      "outputs": [
        {
          "output_type": "stream",
          "name": "stdout",
          "text": [
            "根據日記內容，沒有符合的正面情緒字詞。\n",
            "\n",
            "根據日記內容，符合的負面情緒字詞有：\n",
            "\n",
            "* 心跳變得好快（心神不安的）\n",
            "* 耳邊像嗡嗡作響（心疼）\n",
            "* 怎麼可能？我才三十八歲，...怎麼會是我？（心痛）\n",
            "\n",
            "繪製情緒雲：\n",
            "\n",
            "cloud: 😔💔😕\n",
            "\n",
            "沒有符合的正面情緒字詞\n"
          ]
        }
      ]
    },
    {
      "cell_type": "markdown",
      "source": [
        "### 1.4.4. 不用辭典，直接請Agent分析情緒"
      ],
      "metadata": {
        "id": "xbieawftLsxg"
      }
    },
    {
      "cell_type": "code",
      "source": [
        "sys_prompt = \"\"\"\n",
        "分析患者的日記：{question}，所載內容中所有的情緒字詞及出現次數。\n",
        "以表格方式回答各個情緒字詞及出現次數，\n",
        "不要有任何其他文字或句子\n",
        "也不要有標題欄位\n",
        "須以繁體中文回覆\n",
        "\"\"\""
      ],
      "metadata": {
        "id": "8fnCIub2Lx1U"
      },
      "execution_count": 100,
      "outputs": []
    },
    {
      "cell_type": "code",
      "source": [
        "# 將自定 prompt 套入格式\n",
        "final_wo_prompt = sys_prompt.format(question=prompt)\n",
        "\n",
        "# 呼叫 OpenAI API\n",
        "response_wo_ana = client.chat.completions.create(\n",
        "  model=model,\n",
        "  messages=[\n",
        "      {\"role\": \"system\", \"content\": sys_prompt},\n",
        "      {\"role\": \"user\", \"content\": final_wo_prompt},\n",
        "  ]\n",
        ")\n",
        "\n",
        "print(response_wo_ana.choices[0].message.content)"
      ],
      "metadata": {
        "id": "nl6ekLkVMAWs",
        "colab": {
          "base_uri": "https://localhost:8080/"
        },
        "outputId": "7d72698f-40cb-4b1f-fa7c-b32c4af465ad"
      },
      "execution_count": 101,
      "outputs": [
        {
          "output_type": "stream",
          "name": "stdout",
          "text": [
            "愣, 1\n",
            "驚, 1\n",
            "惶恐, 1\n",
            "沮喪, 1\n",
            "懷疑, 1\n",
            "肯定, 1\n"
          ]
        }
      ]
    },
    {
      "cell_type": "code",
      "source": [
        "emorespon = response_wo_ana.choices[0].message.content.split('\\n')\n",
        "emorespon[0].split(' ')\n",
        "emopatient ={ }\n",
        "\n",
        "for i in range(len(emorespon)):\n",
        "  key, value = emorespon[i].split(' ')\n",
        "  emopatient.update({key: int(value)})\n",
        "\n",
        "print(emopatient)"
      ],
      "metadata": {
        "id": "Ms4Ha3Z_bOB3",
        "colab": {
          "base_uri": "https://localhost:8080/"
        },
        "outputId": "a60bbb59-4fbf-46f1-f56a-a3c67ac774de"
      },
      "execution_count": 102,
      "outputs": [
        {
          "output_type": "stream",
          "name": "stdout",
          "text": [
            "{'愣,': 1, '驚,': 1, '惶恐,': 1, '沮喪,': 1, '懷疑,': 1, '肯定,': 1}\n"
          ]
        }
      ]
    },
    {
      "cell_type": "markdown",
      "source": [
        "### 1.4.5. 文字雲\n",
        "\n",
        "詢問Gmini如何繪製文字雲\n",
        "\n",
        "\n",
        "*   Prompt: 「給我一段python產生文字雲」\n",
        "*   Gemini:\n",
        "\n",
        "\n",
        "> 安裝套件： 首先使用 !pip install wordcloud==1.8.2.2 安裝 wordcloud 套件。\n",
        ">\n",
        "> 匯入套件： 匯入 WordCloud 和 matplotlib.pyplot。\n",
        ">\n",
        "> 準備文字資料： 將您想要產生文字雲的文字放入 text 變數中。\n",
        ">\n",
        "> 建立 WordCloud 物件： 使用 WordCloud() 建立一個文字雲物件。\n",
        ">\n",
        ">  font_path='SimHei.ttf'：這是一個重要的參數，用於指定文字雲的字體。如果您處理的文字包含中文，您需要指定一個支援中文的字體檔案。在 Google Colab 中，通常可以使用內建的字體，或者您可以上傳自己的字體檔案。這裡使用了一個常見的中文字體範例。\n",
        ">\n",
        ">  background_color='white'：設定文字雲的背景顏色。您可以根據需要更改。\n",
        ">\n",
        "> 產生文字雲： 使用 .generate(text) 方法根據您的文字資料產生文字雲。\n",
        ">\n",
        "> 顯示文字雲： 使用 matplotlib.pyplot 來顯示產生的文字雲。\n",
        ">\n",
        "> plt.figure(figsize=(10, 8))：設定圖形的大小。\n",
        ">\n",
        "> plt.imshow(wordcloud, interpolation='bilinear')：顯示文字雲圖像。\n",
        ">\n",
        "> plt.axis('off')：關閉座標軸。\n",
        ">\n",
        "> plt.show()：顯示圖形。\n",
        ">\n",
        "> 注意事項：\n",
        ">\n",
        "> 中文字體： 如果您的文字包含中文，請確保您指定的 font_path 指向一個有效的、支援中文的字體檔案。您可能需要上傳字體檔案到您的 Colab 環境中。\n",
        ">\n",
        "> 文字預處理： 在實際應用中，您可能需要對文字進行預處理，例如去除標點符號、停用詞等，以獲得更好的文字雲效果。\n",
        "> 將這段程式碼複製到您的 Google Colab 筆記本中執行，就可以產生文字雲了。\n",
        "\n"
      ],
      "metadata": {
        "id": "UDXC9VzeOuIa"
      }
    },
    {
      "cell_type": "code",
      "source": [
        "# 設定 WordCloud 參數，例如字體、背景顏色等\n",
        "# 如果需要顯示中文，請指定中文字體\n",
        "# 參照https://colab.research.google.com/github/willismax/matplotlib_show_chinese_in_colab/blob/master/matplotlib_show_chinese_in_colab.ipynb#scrollTo=AByB62T315mR\n",
        "# 使用TaipeiSans\n",
        "wordcloud = WordCloud(font_path='TaipeiSansTCBeta-Regular.ttf',\n",
        "                      background_color='white').generate(response_wo_ana.choices[0].message.content)\n",
        "\n",
        "# 顯示文字雲\n",
        "plt.figure(figsize=(10, 8))\n",
        "plt.imshow(wordcloud, interpolation='bilinear')\n",
        "plt.axis('off')\n",
        "plt.show()"
      ],
      "metadata": {
        "id": "VQ9vdtcHOto5",
        "colab": {
          "base_uri": "https://localhost:8080/",
          "height": 424
        },
        "outputId": "f1136a24-41cb-4eb4-96f7-2e9cfc263706"
      },
      "execution_count": 103,
      "outputs": [
        {
          "output_type": "display_data",
          "data": {
            "text/plain": [
              "<Figure size 1000x800 with 1 Axes>"
            ],
            "image/png": "[encoded data removed]"
          },
          "metadata": {}
        }
      ]
    },
    {
      "cell_type": "markdown",
      "source": [
        "依照文字出現頻率而繪製的文字雲"
      ],
      "metadata": {
        "id": "-z8wr8179tdB"
      }
    },
    {
      "cell_type": "code",
      "source": [
        "# 從頻率字典產生文字雲\n",
        "wordcloud_fre = WordCloud(font_path='TaipeiSansTCBeta-Regular.ttf',\n",
        "                      background_color='white')\n",
        "wordcloud_fre.generate_from_frequencies(emopatient)\n",
        "\n",
        "# 顯示文字雲\n",
        "plt.figure(figsize=(10, 8))\n",
        "plt.imshow(wordcloud_fre, interpolation='bilinear')\n",
        "plt.axis('off')\n",
        "plt.show()"
      ],
      "metadata": {
        "id": "jAgkjjEpbINh",
        "colab": {
          "base_uri": "https://localhost:8080/",
          "height": 424
        },
        "outputId": "05b7492c-8977-427d-dffe-9615511568e3"
      },
      "execution_count": 104,
      "outputs": [
        {
          "output_type": "display_data",
          "data": {
            "text/plain": [
              "<Figure size 1000x800 with 1 Axes>"
            ],
            "image/png": "[encoded data removed]"
          },
          "metadata": {}
        }
      ]
    },
    {
      "cell_type": "markdown",
      "source": [
        "## 1.5. 情緒分類\n",
        "\n",
        "使用NTUSD辭典，發現並不能有效區別日記中的情緒，故採用皮克斯電影中「腦筋急轉彎」中，情緒角色，作為分類的依據"
      ],
      "metadata": {
        "id": "yjE4tGbSRwXd"
      }
    },
    {
      "cell_type": "code",
      "source": [
        "emotion_dict = {\n",
        "    \"快樂\": [\n",
        "        \"開心\", \"快樂\", \"高興\", \"喜悅\", \"幸福\", \"滿足\", \"爽快\", \"愉快\", \"輕鬆\", \"欣慰\",\n",
        "        \"舒服\", \"激動\", \"興奮\", \"雀躍\", \"開懷\", \"如釋重負\", \"安心\", \"欣喜\", \"甜蜜\", \"幸福感\"\n",
        "    ],\n",
        "    \"焦慮\": [\n",
        "        \"焦慮\", \"不安\", \"緊張\", \"擔心\", \"煩躁\", \"惶恐\", \"坐立難安\", \"心神不寧\", \"心慌\",\n",
        "        \"忐忑\", \"惴惴\", \"沒安全感\", \"提心吊膽\", \"急躁\", \"煩悶\", \"無措\", \"亂\", \"懷疑\", \"恐慌\", \"心煩\"\n",
        "    ],\n",
        "    \"討厭\": [\n",
        "        \"討厭\", \"厭惡\", \"排斥\", \"嫌棄\", \"反感\", \"膩\", \"煩\", \"受不了\", \"厭煩\", \"嫌\",\n",
        "        \"刺眼\", \"刺耳\", \"懶得理\", \"懶得看\", \"不想理\", \"懷疑\", \"抗拒\", \"否定\", \"看不順眼\", \"不耐煩\"\n",
        "    ],\n",
        "    \"憤怒\": [\n",
        "        \"生氣\", \"憤怒\", \"怒火\", \"氣憤\", \"氣死\", \"發火\", \"火大\", \"抓狂\", \"咬牙\", \"怒氣沖天\",\n",
        "        \"怒目\", \"怒吼\", \"冒火\", \"氣炸\", \"惱怒\", \"不爽\", \"發飆\", \"氣到哭\", \"氣到笑\", \"動怒\"\n",
        "    ],\n",
        "    \"憂鬱\": [\n",
        "        \"憂鬱\", \"悲傷\", \"難過\", \"沮喪\", \"失落\", \"空虛\", \"低落\", \"無助\", \"孤單\", \"痛苦\",\n",
        "        \"不想活\", \"想哭\", \"沉重\", \"壓抑\", \"疲憊\", \"崩潰\", \"麻木\", \"悶\", \"失望\", \"黑暗\"\n",
        "    ],\n",
        "    \"驚恐\": [\n",
        "        \"害怕\", \"恐懼\", \"驚嚇\", \"驚恐\", \"心驚膽跳\", \"受驚\", \"緊張兮兮\", \"慌張\", \"不知所措\", \"發抖\",\n",
        "        \"恐慌\", \"戰慄\", \"魂飛魄散\", \"慌亂\", \"怕死\", \"不寒而慄\", \"倒抽一口氣\", \"心跳加速\", \"冒冷汗\", \"驚慌失措\"\n",
        "    ],\n",
        "    \"羨慕\": [\n",
        "        \"羨慕\", \"嫉妒\", \"眼紅\", \"酸\", \"忌妒\", \"心酸\", \"想要\", \"羨慕不已\", \"好羨慕\", \"羨慕得要命\",\n",
        "        \"羨慕他人\", \"羨慕自己沒有\", \"怨\", \"羨望\", \"眼饞\", \"欣羨\", \"仰慕\", \"欽佩\", \"欽羨\", \"失落地看著\"\n",
        "    ],\n",
        "    \"無所謂\": [\n",
        "        \"無所謂\", \"隨便\", \"沒差\", \"無感\", \"無聊\", \"懶得管\", \"不在意\", \"冷淡\", \"不關心\", \"冷漠\",\n",
        "        \"看開\", \"不放在心上\", \"心如止水\", \"不在乎\", \"覺得無趣\", \"沒興趣\", \"被動\", \"沒感覺\", \"已經習慣\", \"沒什麼好說\"\n",
        "    ],\n",
        "    \"害羞\": [\n",
        "        \"害羞\", \"不好意思\", \"臉紅\", \"怕見人\", \"低頭\", \"不敢說\", \"不敢看\", \"緊張\", \"羞澀\", \"羞愧\",\n",
        "        \"怕被笑\", \"躲避\", \"閃躲\", \"遮掩\", \"不自在\", \"小聲說\", \"結巴\", \"慌張\", \"手足無措\", \"拘謹\"\n",
        "    ]\n",
        "}"
      ],
      "metadata": {
        "id": "_HjBRke3Szq9"
      },
      "execution_count": 105,
      "outputs": []
    },
    {
      "cell_type": "code",
      "source": [
        "type(emotion_dict)\n",
        "emotion_dict.get(\"羨慕\",0)"
      ],
      "metadata": {
        "id": "rqKYaiIES2VZ",
        "colab": {
          "base_uri": "https://localhost:8080/"
        },
        "outputId": "30ade80d-8119-435a-f36b-514c797bc2ec"
      },
      "execution_count": 106,
      "outputs": [
        {
          "output_type": "execute_result",
          "data": {
            "text/plain": [
              "['羨慕',\n",
              " '嫉妒',\n",
              " '眼紅',\n",
              " '酸',\n",
              " '忌妒',\n",
              " '心酸',\n",
              " '想要',\n",
              " '羨慕不已',\n",
              " '好羨慕',\n",
              " '羨慕得要命',\n",
              " '羨慕他人',\n",
              " '羨慕自己沒有',\n",
              " '怨',\n",
              " '羨望',\n",
              " '眼饞',\n",
              " '欣羨',\n",
              " '仰慕',\n",
              " '欽佩',\n",
              " '欽羨',\n",
              " '失落地看著']"
            ]
          },
          "metadata": {},
          "execution_count": 106
        }
      ]
    },
    {
      "cell_type": "markdown",
      "source": [
        "分割情緒字典的dictionary"
      ],
      "metadata": {
        "id": "4JHfwAabUeIy"
      }
    },
    {
      "cell_type": "code",
      "source": [
        "items = emotion_dict.items()\n",
        "\n",
        "for key, value in items:\n",
        "  emo = key\n",
        "  print(key, value)\n",
        "#  print(emo)"
      ],
      "metadata": {
        "id": "_KfJ_gzEU0vg",
        "colab": {
          "base_uri": "https://localhost:8080/"
        },
        "outputId": "0a33b80b-dec4-4eac-8413-d801036fa055"
      },
      "execution_count": 107,
      "outputs": [
        {
          "output_type": "stream",
          "name": "stdout",
          "text": [
            "快樂 ['開心', '快樂', '高興', '喜悅', '幸福', '滿足', '爽快', '愉快', '輕鬆', '欣慰', '舒服', '激動', '興奮', '雀躍', '開懷', '如釋重負', '安心', '欣喜', '甜蜜', '幸福感']\n",
            "焦慮 ['焦慮', '不安', '緊張', '擔心', '煩躁', '惶恐', '坐立難安', '心神不寧', '心慌', '忐忑', '惴惴', '沒安全感', '提心吊膽', '急躁', '煩悶', '無措', '亂', '懷疑', '恐慌', '心煩']\n",
            "討厭 ['討厭', '厭惡', '排斥', '嫌棄', '反感', '膩', '煩', '受不了', '厭煩', '嫌', '刺眼', '刺耳', '懶得理', '懶得看', '不想理', '懷疑', '抗拒', '否定', '看不順眼', '不耐煩']\n",
            "憤怒 ['生氣', '憤怒', '怒火', '氣憤', '氣死', '發火', '火大', '抓狂', '咬牙', '怒氣沖天', '怒目', '怒吼', '冒火', '氣炸', '惱怒', '不爽', '發飆', '氣到哭', '氣到笑', '動怒']\n",
            "憂鬱 ['憂鬱', '悲傷', '難過', '沮喪', '失落', '空虛', '低落', '無助', '孤單', '痛苦', '不想活', '想哭', '沉重', '壓抑', '疲憊', '崩潰', '麻木', '悶', '失望', '黑暗']\n",
            "驚恐 ['害怕', '恐懼', '驚嚇', '驚恐', '心驚膽跳', '受驚', '緊張兮兮', '慌張', '不知所措', '發抖', '恐慌', '戰慄', '魂飛魄散', '慌亂', '怕死', '不寒而慄', '倒抽一口氣', '心跳加速', '冒冷汗', '驚慌失措']\n",
            "羨慕 ['羨慕', '嫉妒', '眼紅', '酸', '忌妒', '心酸', '想要', '羨慕不已', '好羨慕', '羨慕得要命', '羨慕他人', '羨慕自己沒有', '怨', '羨望', '眼饞', '欣羨', '仰慕', '欽佩', '欽羨', '失落地看著']\n",
            "無所謂 ['無所謂', '隨便', '沒差', '無感', '無聊', '懶得管', '不在意', '冷淡', '不關心', '冷漠', '看開', '不放在心上', '心如止水', '不在乎', '覺得無趣', '沒興趣', '被動', '沒感覺', '已經習慣', '沒什麼好說']\n",
            "害羞 ['害羞', '不好意思', '臉紅', '怕見人', '低頭', '不敢說', '不敢看', '緊張', '羞澀', '羞愧', '怕被笑', '躲避', '閃躲', '遮掩', '不自在', '小聲說', '結巴', '慌張', '手足無措', '拘謹']\n"
          ]
        }
      ]
    },
    {
      "cell_type": "markdown",
      "source": [
        "測試模糊比對"
      ],
      "metadata": {
        "id": "ypfXsB3OY5V2"
      }
    },
    {
      "cell_type": "code",
      "source": [
        "process.extract(\"驚恐\", emotion_dict.get(\"驚恐\",0))"
      ],
      "metadata": {
        "id": "Wnv3qKYAXvIC",
        "colab": {
          "base_uri": "https://localhost:8080/"
        },
        "outputId": "d8e4afca-f88d-487c-e501-79e915eb9e46"
      },
      "execution_count": 108,
      "outputs": [
        {
          "output_type": "execute_result",
          "data": {
            "text/plain": [
              "[('驚恐', 100), ('恐懼', 50), ('驚嚇', 50), ('受驚', 50), ('恐慌', 50)]"
            ]
          },
          "metadata": {},
          "execution_count": 108
        }
      ]
    },
    {
      "cell_type": "markdown",
      "source": [
        "### 1.5.1. 分類AI agent的情緒"
      ],
      "metadata": {
        "id": "NEOBcMmgZrqG"
      }
    },
    {
      "cell_type": "code",
      "source": [
        "sum = 0\n",
        "emo_list ={}\n",
        "emo_frame = pd.DataFrame()\n",
        "\n",
        "# 讀取AI agent分析的所有字詞\n",
        "for key, value in emopatient.items():\n",
        "  # 依據情緒辭典的7個類別\n",
        "  for emo in emotion_dict.keys():\n",
        "    # 依依模糊比對\n",
        "    results = process.extract(key, emotion_dict.get(emo,0))\n",
        "#    print(results)\n",
        "    # 加總該詞組內，最相近的4個詞的相似性總分\n",
        "    for result in results:\n",
        "      sum = sum + result[1]\n",
        "#    print(sum)\n",
        "    # 輸出成dict\n",
        "    emo_list.update({emo: sum*value})\n",
        "    sum = 0\n",
        "#  print(emo_list)\n",
        "  # 將dict轉成dataframe\n",
        "  emo_frame = pd.concat([emo_frame, pd.DataFrame([emo_list])], ignore_index=True)\n",
        "  emo_list = {}\n",
        "print(emo_frame)"
      ],
      "metadata": {
        "id": "ILyks-SXZwKI",
        "colab": {
          "base_uri": "https://localhost:8080/"
        },
        "outputId": "e3022667-5e41-475e-a2b1-50882cede085"
      },
      "execution_count": 109,
      "outputs": [
        {
          "output_type": "stream",
          "name": "stdout",
          "text": [
            "   快樂   焦慮   討厭  憤怒   憂鬱   驚恐  羨慕  無所謂  害羞\n",
            "0   0    0    0   0    0    0   0    0   0\n",
            "1   0    0    0   0    0  450   0    0   0\n",
            "2   0  150    0   0    0  150   0    0   0\n",
            "3   0    0    0   0  100    0   0    0   0\n",
            "4  50  100  100   0    0    0   0    0   0\n",
            "5   0    0   50   0    0    0   0    0   0\n"
          ]
        }
      ]
    },
    {
      "cell_type": "markdown",
      "source": [
        "### 1.5.2. 加總所有情緒詞在9個類別的總分"
      ],
      "metadata": {
        "id": "K58hZgocVdYl"
      }
    },
    {
      "cell_type": "code",
      "source": [
        "emotion = emo_frame.sum().sort_values(ascending=False)\n",
        "print(emotion/100)"
      ],
      "metadata": {
        "id": "BD4rYqBnHenw",
        "colab": {
          "base_uri": "https://localhost:8080/"
        },
        "outputId": "606c5120-61bc-4865-a120-f060e1fd7c17"
      },
      "execution_count": 110,
      "outputs": [
        {
          "output_type": "stream",
          "name": "stdout",
          "text": [
            "驚恐     6.0\n",
            "焦慮     2.5\n",
            "討厭     1.5\n",
            "憂鬱     1.0\n",
            "快樂     0.5\n",
            "憤怒     0.0\n",
            "羨慕     0.0\n",
            "無所謂    0.0\n",
            "害羞     0.0\n",
            "dtype: float64\n"
          ]
        }
      ]
    },
    {
      "cell_type": "markdown",
      "source": [
        "### 1.5.3. 繪製9個情緒類別的文字雲"
      ],
      "metadata": {
        "id": "8LdpM8vGVvNL"
      }
    },
    {
      "cell_type": "code",
      "source": [
        "# 從頻率字典產生文字雲\n",
        "wordcloud_tot = WordCloud(font_path='TaipeiSansTCBeta-Regular.ttf',\n",
        "                      background_color='white')\n",
        "wordcloud_tot.generate_from_frequencies(emotion/100)\n",
        "\n",
        "# 顯示文字雲\n",
        "plt.figure(figsize=(7, 5))\n",
        "plt.imshow(wordcloud_tot, interpolation='bilinear')\n",
        "plt.axis('off')\n",
        "plt.show()"
      ],
      "metadata": {
        "id": "S8_ZlrBXOqDA",
        "colab": {
          "base_uri": "https://localhost:8080/",
          "height": 308
        },
        "outputId": "b5ef4b94-7155-41a5-9dd8-8c16eb804d8a"
      },
      "execution_count": 111,
      "outputs": [
        {
          "output_type": "display_data",
          "data": {
            "text/plain": [
              "<Figure size 700x500 with 1 Axes>"
            ],
            "image/png": "[encoded data removed]"
          },
          "metadata": {}
        }
      ]
    },
    {
      "cell_type": "markdown",
      "source": [
        "## 1.6. 建立Web\n",
        "\n",
        "參照[1.5.1](#scrollTo=NEOBcMmgZrqG&line=1&uniqifier=1)定義情緒分析函數`emo_ana()`\n",
        "\n",
        "而且必須先執行[皮克斯情緒字典](#scrollTo=yjE4tGbSRwXd)"
      ],
      "metadata": {
        "id": "Ulie6is9QKpl"
      }
    },
    {
      "cell_type": "code",
      "source": [
        "def emo_ana(*emopatient):\n",
        "  sum = 0\n",
        "  emo_list ={}\n",
        "  emo_frame = pd.DataFrame()\n",
        "\n",
        "  for key, value in emopatient.items():\n",
        "    for emo in emotion_dict.keys():\n",
        "      results = process.extract(key, emotion_dict.get(emo,0))\n",
        "      for result in results:\n",
        "        sum = sum + result[1]\n",
        "      emo_list.update({emo: sum})\n",
        "      sum = 0\n",
        "    emo_frame = pd.concat([emo_frame, pd.DataFrame([emo_list])], ignore_index=True)\n",
        "    emo_list = {}\n",
        "  return emo_frame"
      ],
      "metadata": {
        "id": "HSRmyguTYKnD"
      },
      "execution_count": 64,
      "outputs": []
    },
    {
      "cell_type": "markdown",
      "source": [
        "參照[1.4.4.](#scrollTo=xbieawftLsxg&line=1&uniqifier=1)跟[1.4.5.](#scrollTo=-z8wr8179tdB)建立情緒字格式化轉文字雲"
      ],
      "metadata": {
        "id": "K8WV-JEvZk7k"
      }
    },
    {
      "cell_type": "code",
      "source": [
        "def emo_wordcloud(user_input, count):\n",
        "    emorespon = user_input.split('\\n')\n",
        "    emorespon[0].split(' ')\n",
        "    emopatient ={ }\n",
        "\n",
        "    for i in range(len(emorespon)):\n",
        "      key, value = emorespon[i].split(' ')\n",
        "      emopatient.update({key: int(value)})\n",
        "\n",
        "    # 依照辭典類別分類\n",
        "    sum = 0\n",
        "    emo_list ={}\n",
        "    emo_frame = pd.DataFrame()\n",
        "\n",
        "    for key, value in emopatient.items():\n",
        "      for emo in emotion_dict.keys():\n",
        "        results = process.extract(key, emotion_dict.get(emo,0))\n",
        "        for result in results:\n",
        "          sum = sum + result[1]\n",
        "        emo_list.update({emo: sum*value})\n",
        "        sum = 0\n",
        "      emo_frame = pd.concat([emo_frame, pd.DataFrame([emo_list])], ignore_index=True)\n",
        "      emo_list = {}\n",
        "\n",
        "    emotion = emo_frame.sum().sort_values(ascending=False)\n",
        "\n",
        "    wordcloud_fre = WordCloud(font_path='TaipeiSansTCBeta-Regular.ttf',\n",
        "                      background_color='white').generate_from_frequencies(emotion/100)\n",
        "\n",
        "    image_path = f\"emotion_wordcloud_{count}.png\"\n",
        "    wordcloud_fre.to_file(image_path)\n",
        "\n",
        "    return image_path"
      ],
      "metadata": {
        "id": "5_NEHMTOQOc0"
      },
      "execution_count": 115,
      "outputs": []
    },
    {
      "cell_type": "markdown",
      "source": [
        "必須先執行[1.4.4.](#scrollTo=xbieawftLsxg&line=1&uniqifier=1)取得System prompt的設定，之後定義可以顯示歷史紀錄的`chat_wiht_rag()`"
      ],
      "metadata": {
        "id": "aEbk0WvjcLA2"
      }
    },
    {
      "cell_type": "code",
      "source": [
        "chat_history = []\n",
        "\n",
        "def chat_with_rag(user_input):\n",
        "    global chat_history\n",
        "\n",
        "    # 必須先執行1.4.4取得system prompt\n",
        "    final_wo_prompt = sys_prompt.format(question=user_input)\n",
        "\n",
        "    # 呼叫 OpenAI API\n",
        "    response_wo_ana = client.chat.completions.create(\n",
        "      model=model,\n",
        "      messages=[\n",
        "        {\"role\": \"system\", \"content\": sys_prompt},\n",
        "        {\"role\": \"user\", \"content\": final_wo_prompt},\n",
        "      ]\n",
        "    )\n",
        "    answer = response_wo_ana.choices[0].message.content\n",
        "\n",
        "    answer_image = emo_wordcloud(answer, len(chat_history))\n",
        "\n",
        "    # 圖片要先存起來，再將路徑跟檔名打包成一個tulip\n",
        "    chat_history.append((user_input, (answer, answer_image)))\n",
        "    return answer_image"
      ],
      "metadata": {
        "id": "7TjjXRBIXJPK"
      },
      "execution_count": 142,
      "outputs": []
    },
    {
      "cell_type": "markdown",
      "source": [
        "### 使用Gradio"
      ],
      "metadata": {
        "id": "nKhNsk6QVfQO"
      }
    },
    {
      "cell_type": "code",
      "source": [
        "with gr.Blocks() as demo:\n",
        "    gr.Markdown(\"表達性書寫\")\n",
        "    gr.Markdown(\" ❤️ 給勇敢的妳\")\n",
        "    gr.Markdown(\"寫日記不需要完美，也不需要有邏輯。請誠實寫下你今天的感受，這裡沒有評價，只有理解。\")\n",
        "    gr.Markdown(\"✨ 你可以從以下面向開始書寫：\")\n",
        "    gr.Markdown(\"- 今天的身體感覺如何？有沒有不舒服的地方？ \")\n",
        "    gr.Markdown(\"- 在醫院或治療過程中，有哪些人讓你特別有感覺？ \")\n",
        "    gr.Markdown(\"- 有沒有什麼事情讓你想哭？讓你想笑？ \")\n",
        "    gr.Markdown(\"- 如果情緒有顏色，你今天是哪一種？ \")\n",
        "\n",
        "    chatbot = gr.Chatbot()\n",
        "    msg = gr.Textbox(placeholder=\"請書寫最近擔心事情，或是正在迴避想法，這些想法可能對您的生活造成傷害\")\n",
        "\n",
        "    def respond(message, chat_history_local):\n",
        "        response_image = chat_with_rag(message)\n",
        "        chat_history_local.append((message, (response_image, f\"/content/{response_image}\")))\n",
        "        return \"\", chat_history_local\n",
        "\n",
        "    msg.submit(respond, [msg, chatbot], [msg, chatbot])\n",
        "\n",
        "# 需要授權gradio讀取local檔案的路徑，才能顯示該路徑底下的檔案內容\n",
        "demo.launch(debug=True, allowed_paths=[\"/content/\"])"
      ],
      "metadata": {
        "colab": {
          "base_uri": "https://localhost:8080/",
          "height": 715
        },
        "id": "Hafw-oEbVd8c",
        "outputId": "c1ca15fd-8186-4cce-d0e9-2bab05672a13"
      },
      "execution_count": 144,
      "outputs": [
        {
          "output_type": "stream",
          "name": "stderr",
          "text": [
            "<ipython-input-144-9a4c0b1a7b17>:11: UserWarning: You have not specified a value for the `type` parameter. Defaulting to the 'tuples' format for chatbot messages, but this is deprecated and will be removed in a future version of Gradio. Please set type='messages' instead, which uses openai-style dictionaries with 'role' and 'content' keys.\n",
            "  chatbot = gr.Chatbot()\n"
          ]
        },
        {
          "output_type": "stream",
          "name": "stdout",
          "text": [
            "It looks like you are running Gradio on a hosted a Jupyter notebook. For the Gradio app to work, sharing must be enabled. Automatically setting `share=True` (you can turn this off by setting `share=False` in `launch()` explicitly).\n",
            "\n",
            "Colab notebook detected. This cell will run indefinitely so that you can see errors and logs. To turn off, set debug=False in launch().\n",
            "* Running on public URL: https://795cf0c27107cdd19a.gradio.live\n",
            "\n",
            "This share link expires in 1 week. For free permanent hosting and GPU upgrades, run `gradio deploy` from the terminal in the working directory to deploy to Hugging Face Spaces (https://huggingface.co/spaces)\n"
          ]
        },
        {
          "output_type": "display_data",
          "data": {
            "text/plain": [
              "<IPython.core.display.HTML object>"
            ],
            "text/html": [
              "<div><iframe src=\"https://795cf0c27107cdd19a.gradio.live\" width=\"100%\" height=\"500\" allow=\"autoplay; camera; microphone; clipboard-read; clipboard-write;\" frameborder=\"0\" allowfullscreen></iframe></div>"
            ]
          },
          "metadata": {}
        },
        {
          "output_type": "stream",
          "name": "stdout",
          "text": [
            "Keyboard interruption in main thread... closing server.\n",
            "Killing tunnel 127.0.0.1:7860 <> https://795cf0c27107cdd19a.gradio.live\n"
          ]
        },
        {
          "output_type": "execute_result",
          "data": {
            "text/plain": []
          },
          "metadata": {},
          "execution_count": 144
        }
      ]
    }
  ]
}