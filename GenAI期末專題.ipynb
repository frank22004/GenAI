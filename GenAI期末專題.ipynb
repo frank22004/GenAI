{
  "nbformat": 4,
  "nbformat_minor": 0,
  "metadata": {
    "colab": {
      "provenance": [],
      "toc_visible": true,
      "authorship_tag": "ABX9TyN+wm11XKdPpsBLBKesGR8J",
      "include_colab_link": true
    },
    "kernelspec": {
      "name": "python3",
      "display_name": "Python 3"
    },
    "language_info": {
      "name": "python"
    }
  },
  "cells": [
    {
      "cell_type": "markdown",
      "metadata": {
        "id": "view-in-github",
        "colab_type": "text"
      },
      "source": [
        "<a href=\"https://colab.research.google.com/github/frank22004/GenAI/blob/main/GenAI%E6%9C%9F%E6%9C%AB%E5%B0%88%E9%A1%8C.ipynb\" target=\"_parent\"><img src=\"https://colab.research.google.com/assets/colab-badge.svg\" alt=\"Open In Colab\"/></a>"
      ]
    },
    {
      "cell_type": "markdown",
      "source": [
        "## 1.1 安裝套件"
      ],
      "metadata": {
        "id": "SjJ77VucuyGK"
      }
    },
    {
      "cell_type": "code",
      "execution_count": null,
      "metadata": {
        "id": "Gug8Q4BIufH2"
      },
      "outputs": [],
      "source": [
        "!pip install -U langchain langchain-community pypdf python-docx sentence-transformers faiss-cpu gradio openai wordcloud dash fuss fuzzywuzzy"
      ]
    },
    {
      "cell_type": "markdown",
      "source": [
        "安裝中文字體"
      ],
      "metadata": {
        "id": "OsxGUn5oQSXn"
      }
    },
    {
      "cell_type": "code",
      "source": [
        "!wget -O TaipeiSansTCBeta-Regular.ttf https://drive.google.com/uc?id=1eGAsTN1HBpJAkeVM57_C7ccp7hbgSz3_&export=download"
      ],
      "metadata": {
        "id": "FXXvjuVyQQi2"
      },
      "execution_count": null,
      "outputs": []
    },
    {
      "cell_type": "code",
      "source": [
        "# 載入必要套件\n",
        "%matplotlib inline\n",
        "import numpy as np\n",
        "import pandas as pd\n",
        "import matplotlib.pyplot as plt\n",
        "\n",
        "# 文字雲\n",
        "from wordcloud import WordCloud\n",
        "\n",
        "import os\n",
        "from openai import OpenAI\n",
        "import gradio as gr\n",
        "\n",
        "# 互動設計用\n",
        "from ipywidgets import interact_manual\n",
        "\n",
        "from google.colab import userdata\n",
        "\n",
        "# 文件分析\n",
        "from langchain_community.document_loaders import TextLoader\n",
        "from langchain.text_splitter import RecursiveCharacterTextSplitter\n",
        "from langchain.embeddings import HuggingFaceEmbeddings\n",
        "from langchain.vectorstores import FAISS\n",
        "from langchain.chat_models import ChatOpenAI\n",
        "from langchain.chains import ConversationalRetrievalChain\n",
        "from langchain.schema import Document\n",
        "\n",
        "# 模糊比對\n",
        "from fuzzywuzzy import fuzz, process"
      ],
      "metadata": {
        "id": "z-qowPN5xVgf"
      },
      "execution_count": null,
      "outputs": []
    },
    {
      "cell_type": "code",
      "source": [
        "from langchain.embeddings import HuggingFaceEmbeddings\n",
        "\n",
        "class CustomE5Embedding(HuggingFaceEmbeddings):\n",
        "    def embed_documents(self, texts):\n",
        "        texts = [f\"passage: {t}\" for t in texts]\n",
        "        return super().embed_documents(texts)\n",
        "\n",
        "    def embed_query(self, text):\n",
        "        return super().embed_query(f\"query: {text}\")"
      ],
      "metadata": {
        "id": "Fjp6aPiXHwvN"
      },
      "execution_count": null,
      "outputs": []
    },
    {
      "cell_type": "markdown",
      "source": [
        "## 1.2. 設定LLM\n",
        "\n",
        "  ### 1.2.1 設定API來自Llama 3-70b"
      ],
      "metadata": {
        "id": "wLm-6WdHyN6U"
      }
    },
    {
      "cell_type": "code",
      "source": [
        "api_key = userdata.get('Groq')\n",
        "os.environ[\"OPENAI_API_KEY\"] = api_key\n",
        "model = \"llama3-70b-8192\"\n",
        "base_url=\"https://api.groq.com/openai/v1\""
      ],
      "metadata": {
        "id": "JIuRDz8RyQeT"
      },
      "execution_count": null,
      "outputs": []
    },
    {
      "cell_type": "markdown",
      "source": [
        "### 1.2.2 設定OpenAI跟Prompt"
      ],
      "metadata": {
        "id": "YoL1E71Zy3W4"
      }
    },
    {
      "cell_type": "code",
      "source": [
        "client = OpenAI(\n",
        "    base_url=base_url\n",
        ")\n",
        "\n",
        "system_prompt = \"你是臨床心理與照護的專家，請根據患者書寫的日記。請分析當下情緒，並給予適當鼓勵。請務必用台灣的中文回應。\""
      ],
      "metadata": {
        "id": "6dwenYX3y8rZ"
      },
      "execution_count": null,
      "outputs": []
    },
    {
      "cell_type": "markdown",
      "source": [
        "1.2.3. Test"
      ],
      "metadata": {
        "id": "TPH6vco2-Xp-"
      }
    },
    {
      "cell_type": "code",
      "source": [
        "prompt = \"今天的下午改變了我整個人生。醫生告訴我：「是乳癌，第二期。」我愣住了，什麼話都說不出來。那一瞬間，我的心跳變得好快，耳邊像嗡嗡作響，世界彷彿靜止。怎麼可能？我才三十八歲，身體一向健康，也沒有家族病史，怎麼會是我？我一直在想，是不是報告弄錯了？是不是只是良性腫瘤？但醫生的眼神很肯定，沒有空間懷疑。\"\n",
        "\n",
        "\n",
        "messages = [\n",
        "    {\"role\": \"system\", \"content\": system_prompt},\n",
        "    {\"role\": \"user\", \"content\": prompt}\n",
        "]"
      ],
      "metadata": {
        "id": "yMnrrH1n-Z40"
      },
      "execution_count": null,
      "outputs": []
    },
    {
      "cell_type": "code",
      "source": [
        "response = client.chat.completions.create(\n",
        "    model=model,\n",
        "    messages=messages\n",
        "    )\n",
        "\n",
        "print(response.choices[0].message.content)"
      ],
      "metadata": {
        "id": "viBTcPxy-n5O"
      },
      "execution_count": null,
      "outputs": []
    },
    {
      "cell_type": "markdown",
      "source": [
        "## 1.3 讀取NTUSD中文正負向詞彙字典\n",
        "\n",
        "台灣大學自然語言處理實驗室(NTU Natural Language Processing Laboratory)[陳信希教授團隊](https://nlg.csie.ntu.edu.tw/advisor.php)，利用Jieba斷詞和Naive Bayes分類器所建立中文情緒辭典(NTUSD)，其涵蓋8277個負面情緒詞跟2810個正面情緒詞。\n",
        "\n",
        "故下載Github的NTUSD專案"
      ],
      "metadata": {
        "id": "ZPNqVA5HBfjF"
      }
    },
    {
      "cell_type": "code",
      "source": [
        "!git clone https://github.com/sweslo17/chinese_sentiment.git"
      ],
      "metadata": {
        "id": "Cs0aPxmHBmh3"
      },
      "execution_count": null,
      "outputs": []
    },
    {
      "cell_type": "markdown",
      "source": [
        "### 1.3.1. 將txt轉成List"
      ],
      "metadata": {
        "id": "rXgEnrO3wVyz"
      }
    },
    {
      "cell_type": "code",
      "source": [
        "postiveEmo = TextLoader('/content/chinese_sentiment/dict/ntusd-positive.txt')\n",
        "negativeEmo = TextLoader('/content/chinese_sentiment/dict/ntusd-negative.txt')"
      ],
      "metadata": {
        "id": "gQvHAfxMCZrE"
      },
      "execution_count": null,
      "outputs": []
    },
    {
      "cell_type": "code",
      "source": [
        "postiveEmo = postiveEmo.load()\n",
        "negativeEmo = negativeEmo.load()"
      ],
      "metadata": {
        "id": "SfdlAGxDDtvp"
      },
      "execution_count": null,
      "outputs": []
    },
    {
      "cell_type": "code",
      "source": [
        "postiveEmo = postiveEmo[0].page_content.split('\\n')\n",
        "negativeEmo = negativeEmo[0].page_content.split('\\n')"
      ],
      "metadata": {
        "id": "mW_wn9gXD1kJ"
      },
      "execution_count": null,
      "outputs": []
    },
    {
      "cell_type": "code",
      "source": [
        "postiveEmo = [i.split('\\t')[0] for i in postiveEmo]\n",
        "negativeEmo = [i.split('\\t')[0] for i in negativeEmo]"
      ],
      "metadata": {
        "id": "qd1iAyNSD-gt"
      },
      "execution_count": null,
      "outputs": []
    },
    {
      "cell_type": "markdown",
      "source": [
        "#### 顯示正面情緒詞"
      ],
      "metadata": {
        "id": "TIpzhzZuwqoJ"
      }
    },
    {
      "cell_type": "code",
      "source": [
        "def print_pos(n=0):\n",
        "    print(postiveEmo[n])\n",
        "\n",
        "interact_manual(print_pos,n=(0,len(postiveEmo)-1))"
      ],
      "metadata": {
        "id": "XARq3KiGEB-f"
      },
      "execution_count": null,
      "outputs": []
    },
    {
      "cell_type": "markdown",
      "source": [
        "#### 顯示負面情緒詞"
      ],
      "metadata": {
        "id": "dVWxRNXGw2A6"
      }
    },
    {
      "cell_type": "code",
      "source": [
        "def print_neg(n=0):\n",
        "    print(negativeEmo[n])\n",
        "\n",
        "interact_manual(print_neg,n=(0,len(negativeEmo)-1))"
      ],
      "metadata": {
        "id": "sk8Xc216EwBu"
      },
      "execution_count": null,
      "outputs": []
    },
    {
      "cell_type": "markdown",
      "source": [
        "### 1.3.2. 建立正面情緒向量資料庫"
      ],
      "metadata": {
        "id": "to2E4pa2F286"
      }
    },
    {
      "cell_type": "code",
      "source": [
        "embedding_model = CustomE5Embedding(model_name=\"intfloat/multilingual-e5-small\")\n",
        "\n",
        "# Create Document objects from the list of positive emotion strings\n",
        "positive_documents = [Document(page_content=emo) for emo in postiveEmo]\n",
        "\n",
        "# Pass the list of Document objects to FAISS.from_documents\n",
        "vectorstore_pos = FAISS.from_documents(positive_documents, embedding_model)"
      ],
      "metadata": {
        "id": "Ro3n22QeF2j7"
      },
      "execution_count": null,
      "outputs": []
    },
    {
      "cell_type": "markdown",
      "source": [
        "嘗試RAG"
      ],
      "metadata": {
        "id": "kiJHGkABK8wx"
      }
    },
    {
      "cell_type": "code",
      "source": [
        "retriever_pos = vectorstore_pos.as_retriever()"
      ],
      "metadata": {
        "id": "FxmL-W3oKtMg"
      },
      "execution_count": null,
      "outputs": []
    },
    {
      "cell_type": "markdown",
      "source": [
        "AI agent回答的內容"
      ],
      "metadata": {
        "id": "H1OzkvzBLXF-"
      }
    },
    {
      "cell_type": "code",
      "source": [
        "docs = retriever_pos.get_relevant_documents(response.choices[0].message.content)\n",
        "docs"
      ],
      "metadata": {
        "id": "moGG_0sRLJbv"
      },
      "execution_count": null,
      "outputs": []
    },
    {
      "cell_type": "markdown",
      "source": [
        "模擬的患者日記"
      ],
      "metadata": {
        "id": "NWQ1923-Lalr"
      }
    },
    {
      "cell_type": "code",
      "source": [
        "docs_pa = retriever_pos.get_relevant_documents(prompt)\n",
        "docs_pa"
      ],
      "metadata": {
        "id": "wOVynWkiLZ_X"
      },
      "execution_count": null,
      "outputs": []
    },
    {
      "cell_type": "markdown",
      "source": [
        "### 1.3.3 建立負面情緒向量資料庫"
      ],
      "metadata": {
        "id": "Gs7GwRXmL0u9"
      }
    },
    {
      "cell_type": "code",
      "source": [
        "# Create Document objects from the list of positive emotion strings\n",
        "negative_documents = [Document(page_content=emo) for emo in negativeEmo]\n",
        "\n",
        "# Pass the list of Document objects to FAISS.from_documents\n",
        "vectorstore_neg = FAISS.from_documents(negative_documents, embedding_model)"
      ],
      "metadata": {
        "id": "OFLVf0NgMAFE"
      },
      "execution_count": null,
      "outputs": []
    },
    {
      "cell_type": "markdown",
      "source": [
        "嘗試RAG"
      ],
      "metadata": {
        "id": "fKKC3Ij0NCn6"
      }
    },
    {
      "cell_type": "code",
      "source": [
        "retriever_neg = vectorstore_neg.as_retriever()"
      ],
      "metadata": {
        "id": "1ZcCiNEDNE6x"
      },
      "execution_count": null,
      "outputs": []
    },
    {
      "cell_type": "markdown",
      "source": [
        "AI agent的回答"
      ],
      "metadata": {
        "id": "QQeOxOaLNKjC"
      }
    },
    {
      "cell_type": "code",
      "source": [
        "doc_neg = retriever_neg.get_relevant_documents(response.choices[0].message.content)\n",
        "doc_neg"
      ],
      "metadata": {
        "id": "KuIuxCT7NOe7"
      },
      "execution_count": null,
      "outputs": []
    },
    {
      "cell_type": "markdown",
      "source": [
        "模擬的患者日記"
      ],
      "metadata": {
        "id": "lyob4ZC3NUJb"
      }
    },
    {
      "cell_type": "code",
      "source": [
        "doc_neg_pa = retriever_neg.get_relevant_documents(prompt)\n",
        "doc_neg_pa"
      ],
      "metadata": {
        "id": "_qgDEW-bNXwx"
      },
      "execution_count": null,
      "outputs": []
    },
    {
      "cell_type": "markdown",
      "source": [
        "## 1.4. 分析情緒"
      ],
      "metadata": {
        "id": "Yuc5cX9JsfqI"
      }
    },
    {
      "cell_type": "markdown",
      "source": [
        "### 1.4.1. 正面情緒\n",
        "\n",
        "設定Prompt"
      ],
      "metadata": {
        "id": "G26btoEdxGxE"
      }
    },
    {
      "cell_type": "code",
      "source": [
        "customized_prompt = \"\"\"\n",
        "根據下列情緒字詞：\n",
        "{retrieved_chunks}\n",
        "\n",
        "分析患者的日記：{question}\n",
        "\n",
        "請回覆日記所載內容是否有符合所列情緒字詞，\n",
        "若有請回答「本日記符合以下的情緒」，並列出符合情緒字詞，\n",
        "若沒有符合的情緒，請直接回答「沒有符合的情緒」。\n",
        "\"\"\""
      ],
      "metadata": {
        "id": "quEfvCR-sldV"
      },
      "execution_count": null,
      "outputs": []
    },
    {
      "cell_type": "code",
      "source": [
        "retrieved_pos_chunks = \"\\n\\n\".join([doc.page_content for doc in docs_pa])\n",
        "\n",
        "# 將自定 prompt 套入格式\n",
        "final_prompt = customized_prompt.format(retrieved_chunks=retrieved_pos_chunks, question=prompt)\n",
        "\n",
        "# 呼叫 OpenAI API\n",
        "response_pos_ana = client.chat.completions.create(\n",
        "  model=model,\n",
        "  messages=[\n",
        "      {\"role\": \"system\", \"content\": system_prompt},\n",
        "      {\"role\": \"user\", \"content\": final_prompt},\n",
        "  ]\n",
        ")\n",
        "\n",
        "answer_pos_ana = response_pos_ana.choices[0].message.content\n",
        "print(answer_pos_ana)"
      ],
      "metadata": {
        "id": "zQhvTLmGxCx9"
      },
      "execution_count": null,
      "outputs": []
    },
    {
      "cell_type": "markdown",
      "source": [
        "### 1.4.2. 負面情緒"
      ],
      "metadata": {
        "id": "sBTT3hL4y4ET"
      }
    },
    {
      "cell_type": "code",
      "source": [
        "retrieved_neg_chunks = \"\\n\\n\".join([doc.page_content for doc in doc_neg_pa])\n",
        "\n",
        "# 將自定 prompt 套入格式\n",
        "final_prompt_neg = customized_prompt.format(retrieved_chunks=retrieved_neg_chunks, question=prompt)\n",
        "\n",
        "# 呼叫 OpenAI API\n",
        "response_neg_ana = client.chat.completions.create(\n",
        "  model=model,\n",
        "  messages=[\n",
        "      {\"role\": \"system\", \"content\": system_prompt},\n",
        "      {\"role\": \"user\", \"content\": final_prompt_neg},\n",
        "  ]\n",
        ")\n",
        "\n",
        "print(response_neg_ana.choices[0].message.content)"
      ],
      "metadata": {
        "id": "RnFLNo4-y7vL"
      },
      "execution_count": null,
      "outputs": []
    },
    {
      "cell_type": "markdown",
      "source": [
        "### 1.4.3. 綜合正負面情緒分析"
      ],
      "metadata": {
        "id": "OF89_EIuzeYU"
      }
    },
    {
      "cell_type": "code",
      "source": [
        "mixed_prompt = \"\"\"\n",
        "根據下列正面情緒字詞：\n",
        "{retrieved_chunks_post}\n",
        "\n",
        "及下列負面情緒字詞:\n",
        "{retrieved_chunks_neg}\n",
        "\n",
        "分析患者的日記：{question}\n",
        "\n",
        "請回覆日記所載內容是否所有符合所列情緒字詞，並繪製情緒雲，\n",
        "若沒有符合的情緒，請直接回答「沒有符合的情緒」。\n",
        "\"\"\""
      ],
      "metadata": {
        "id": "Mhp6vZoxzkUy"
      },
      "execution_count": null,
      "outputs": []
    },
    {
      "cell_type": "code",
      "source": [
        "# 將自定 prompt 套入格式\n",
        "final_prompt = mixed_prompt.format(retrieved_chunks_post=retrieved_pos_chunks, retrieved_chunks_neg=retrieved_neg_chunks, question=prompt)\n",
        "\n",
        "# 呼叫 OpenAI API\n",
        "response_ana = client.chat.completions.create(\n",
        "  model=model,\n",
        "  messages=[\n",
        "      {\"role\": \"system\", \"content\": mixed_prompt},\n",
        "      {\"role\": \"user\", \"content\": final_prompt},\n",
        "  ]\n",
        ")\n",
        "\n",
        "print(response_ana.choices[0].message.content)"
      ],
      "metadata": {
        "id": "EAEBzxGfKF37"
      },
      "execution_count": null,
      "outputs": []
    },
    {
      "cell_type": "markdown",
      "source": [
        "不用辭典，直接請Agent分析情緒"
      ],
      "metadata": {
        "id": "xbieawftLsxg"
      }
    },
    {
      "cell_type": "code",
      "source": [
        "sys_prompt = \"\"\"\n",
        "分析患者的日記：{question}，所載內容中所有的情緒字詞及出現次數。\n",
        "以表格方式回答各個情緒字詞及出現次數，\n",
        "不要有任何其他文字或句子\n",
        "也不要有標題欄位\n",
        "須以繁體中文回覆\n",
        "\"\"\""
      ],
      "metadata": {
        "id": "8fnCIub2Lx1U"
      },
      "execution_count": null,
      "outputs": []
    },
    {
      "cell_type": "code",
      "source": [
        "# 將自定 prompt 套入格式\n",
        "final_wo_prompt = sys_prompt.format(question=prompt)\n",
        "\n",
        "# 呼叫 OpenAI API\n",
        "response_wo_ana = client.chat.completions.create(\n",
        "  model=model,\n",
        "  messages=[\n",
        "      {\"role\": \"system\", \"content\": sys_prompt},\n",
        "      {\"role\": \"user\", \"content\": final_wo_prompt},\n",
        "  ]\n",
        ")\n",
        "\n",
        "print(response_wo_ana.choices[0].message.content)"
      ],
      "metadata": {
        "id": "nl6ekLkVMAWs"
      },
      "execution_count": null,
      "outputs": []
    },
    {
      "cell_type": "code",
      "source": [
        "emorespon = response_wo_ana.choices[0].message.content.split('\\n')\n",
        "emorespon[0].split(' ')\n",
        "emopatient ={ }\n",
        "\n",
        "for i in range(len(emorespon)):\n",
        "  key, value = emorespon[i].split(' ')\n",
        "  emopatient.update({key: int(value)})\n",
        "\n",
        "print(emopatient)"
      ],
      "metadata": {
        "id": "Ms4Ha3Z_bOB3"
      },
      "execution_count": null,
      "outputs": []
    },
    {
      "cell_type": "markdown",
      "source": [
        "### 1.4.4. 文字雲\n",
        "\n",
        "詢問Gmini如何繪製文字雲\n",
        "\n",
        "\n",
        "*   Prompt: 「給我一段python產生文字雲」\n",
        "*   Gemini:\n",
        "\n",
        "\n",
        "> 安裝套件： 首先使用 !pip install wordcloud==1.8.2.2 安裝 wordcloud 套件。\n",
        ">\n",
        "> 匯入套件： 匯入 WordCloud 和 matplotlib.pyplot。\n",
        ">\n",
        "> 準備文字資料： 將您想要產生文字雲的文字放入 text 變數中。\n",
        ">\n",
        "> 建立 WordCloud 物件： 使用 WordCloud() 建立一個文字雲物件。\n",
        ">\n",
        ">  font_path='SimHei.ttf'：這是一個重要的參數，用於指定文字雲的字體。如果您處理的文字包含中文，您需要指定一個支援中文的字體檔案。在 Google Colab 中，通常可以使用內建的字體，或者您可以上傳自己的字體檔案。這裡使用了一個常見的中文字體範例。\n",
        ">\n",
        ">  background_color='white'：設定文字雲的背景顏色。您可以根據需要更改。\n",
        ">\n",
        "> 產生文字雲： 使用 .generate(text) 方法根據您的文字資料產生文字雲。\n",
        ">\n",
        "> 顯示文字雲： 使用 matplotlib.pyplot 來顯示產生的文字雲。\n",
        ">\n",
        "> plt.figure(figsize=(10, 8))：設定圖形的大小。\n",
        ">\n",
        "> plt.imshow(wordcloud, interpolation='bilinear')：顯示文字雲圖像。\n",
        ">\n",
        "> plt.axis('off')：關閉座標軸。\n",
        ">\n",
        "> plt.show()：顯示圖形。\n",
        ">\n",
        "> 注意事項：\n",
        ">\n",
        "> 中文字體： 如果您的文字包含中文，請確保您指定的 font_path 指向一個有效的、支援中文的字體檔案。您可能需要上傳字體檔案到您的 Colab 環境中。\n",
        ">\n",
        "> 文字預處理： 在實際應用中，您可能需要對文字進行預處理，例如去除標點符號、停用詞等，以獲得更好的文字雲效果。\n",
        "> 將這段程式碼複製到您的 Google Colab 筆記本中執行，就可以產生文字雲了。\n",
        "\n"
      ],
      "metadata": {
        "id": "UDXC9VzeOuIa"
      }
    },
    {
      "cell_type": "code",
      "source": [
        "# 設定 WordCloud 參數，例如字體、背景顏色等\n",
        "# 如果需要顯示中文，請指定中文字體\n",
        "# 參照https://colab.research.google.com/github/willismax/matplotlib_show_chinese_in_colab/blob/master/matplotlib_show_chinese_in_colab.ipynb#scrollTo=AByB62T315mR\n",
        "# 使用TaipeiSans\n",
        "wordcloud = WordCloud(font_path='TaipeiSansTCBeta-Regular.ttf',\n",
        "                      background_color='white').generate(response_wo_ana.choices[0].message.content)\n",
        "\n",
        "# 顯示文字雲\n",
        "plt.figure(figsize=(10, 8))\n",
        "plt.imshow(wordcloud, interpolation='bilinear')\n",
        "plt.axis('off')\n",
        "plt.show()"
      ],
      "metadata": {
        "id": "VQ9vdtcHOto5"
      },
      "execution_count": null,
      "outputs": []
    },
    {
      "cell_type": "markdown",
      "source": [
        "依照文字出現頻率而繪製的文字雲"
      ],
      "metadata": {
        "id": "-z8wr8179tdB"
      }
    },
    {
      "cell_type": "code",
      "source": [
        "# 從頻率字典產生文字雲\n",
        "wordcloud_fre = WordCloud(font_path='TaipeiSansTCBeta-Regular.ttf',\n",
        "                      background_color='white')\n",
        "wordcloud_fre.generate_from_frequencies(emopatient)\n",
        "\n",
        "# 顯示文字雲\n",
        "plt.figure(figsize=(10, 8))\n",
        "plt.imshow(wordcloud_fre, interpolation='bilinear')\n",
        "plt.axis('off')\n",
        "plt.show()"
      ],
      "metadata": {
        "id": "jAgkjjEpbINh"
      },
      "execution_count": null,
      "outputs": []
    },
    {
      "cell_type": "markdown",
      "source": [
        "## 1.5. 情緒分類\n",
        "\n",
        "使用NTUSD辭典，發現並不能有效區別日記中的情緒，故採用皮克斯電影中「腦筋急轉彎」中，情緒角色，作為分類的依據"
      ],
      "metadata": {
        "id": "yjE4tGbSRwXd"
      }
    },
    {
      "cell_type": "code",
      "source": [
        "emotion_dict = {\n",
        "    \"快樂\": [\n",
        "        \"開心\", \"快樂\", \"高興\", \"喜悅\", \"幸福\", \"滿足\", \"爽快\", \"愉快\", \"輕鬆\", \"欣慰\",\n",
        "        \"舒服\", \"激動\", \"興奮\", \"雀躍\", \"開懷\", \"如釋重負\", \"安心\", \"欣喜\", \"甜蜜\", \"幸福感\"\n",
        "    ],\n",
        "    \"焦慮\": [\n",
        "        \"焦慮\", \"不安\", \"緊張\", \"擔心\", \"煩躁\", \"惶恐\", \"坐立難安\", \"心神不寧\", \"心慌\",\n",
        "        \"忐忑\", \"惴惴\", \"沒安全感\", \"提心吊膽\", \"急躁\", \"煩悶\", \"無措\", \"亂\", \"懷疑\", \"恐慌\", \"心煩\"\n",
        "    ],\n",
        "    \"討厭\": [\n",
        "        \"討厭\", \"厭惡\", \"排斥\", \"嫌棄\", \"反感\", \"膩\", \"煩\", \"受不了\", \"厭煩\", \"嫌\",\n",
        "        \"刺眼\", \"刺耳\", \"懶得理\", \"懶得看\", \"不想理\", \"懷疑\", \"抗拒\", \"否定\", \"看不順眼\", \"不耐煩\"\n",
        "    ],\n",
        "    \"憤怒\": [\n",
        "        \"生氣\", \"憤怒\", \"怒火\", \"氣憤\", \"氣死\", \"發火\", \"火大\", \"抓狂\", \"咬牙\", \"怒氣沖天\",\n",
        "        \"怒目\", \"怒吼\", \"冒火\", \"氣炸\", \"惱怒\", \"不爽\", \"發飆\", \"氣到哭\", \"氣到笑\", \"動怒\"\n",
        "    ],\n",
        "    \"憂鬱\": [\n",
        "        \"憂鬱\", \"悲傷\", \"難過\", \"沮喪\", \"失落\", \"空虛\", \"低落\", \"無助\", \"孤單\", \"痛苦\",\n",
        "        \"不想活\", \"想哭\", \"沉重\", \"壓抑\", \"疲憊\", \"崩潰\", \"麻木\", \"悶\", \"失望\", \"黑暗\"\n",
        "    ],\n",
        "    \"驚恐\": [\n",
        "        \"害怕\", \"恐懼\", \"驚嚇\", \"驚恐\", \"心驚膽跳\", \"受驚\", \"緊張兮兮\", \"慌張\", \"不知所措\", \"發抖\",\n",
        "        \"恐慌\", \"戰慄\", \"魂飛魄散\", \"慌亂\", \"怕死\", \"不寒而慄\", \"倒抽一口氣\", \"心跳加速\", \"冒冷汗\", \"驚慌失措\"\n",
        "    ],\n",
        "    \"羨慕\": [\n",
        "        \"羨慕\", \"嫉妒\", \"眼紅\", \"酸\", \"忌妒\", \"心酸\", \"想要\", \"羨慕不已\", \"好羨慕\", \"羨慕得要命\",\n",
        "        \"羨慕他人\", \"羨慕自己沒有\", \"怨\", \"羨望\", \"眼饞\", \"欣羨\", \"仰慕\", \"欽佩\", \"欽羨\", \"失落地看著\"\n",
        "    ],\n",
        "    \"無所謂\": [\n",
        "        \"無所謂\", \"隨便\", \"沒差\", \"無感\", \"無聊\", \"懶得管\", \"不在意\", \"冷淡\", \"不關心\", \"冷漠\",\n",
        "        \"看開\", \"不放在心上\", \"心如止水\", \"不在乎\", \"覺得無趣\", \"沒興趣\", \"被動\", \"沒感覺\", \"已經習慣\", \"沒什麼好說\"\n",
        "    ],\n",
        "    \"害羞\": [\n",
        "        \"害羞\", \"不好意思\", \"臉紅\", \"怕見人\", \"低頭\", \"不敢說\", \"不敢看\", \"緊張\", \"羞澀\", \"羞愧\",\n",
        "        \"怕被笑\", \"躲避\", \"閃躲\", \"遮掩\", \"不自在\", \"小聲說\", \"結巴\", \"慌張\", \"手足無措\", \"拘謹\"\n",
        "    ]\n",
        "}"
      ],
      "metadata": {
        "id": "_HjBRke3Szq9"
      },
      "execution_count": null,
      "outputs": []
    },
    {
      "cell_type": "code",
      "source": [
        "type(emotion_dict)\n",
        "emotion_dict.get(\"羨慕\",0)"
      ],
      "metadata": {
        "id": "rqKYaiIES2VZ"
      },
      "execution_count": null,
      "outputs": []
    },
    {
      "cell_type": "markdown",
      "source": [
        "分割情緒字典的dictionary"
      ],
      "metadata": {
        "id": "4JHfwAabUeIy"
      }
    },
    {
      "cell_type": "code",
      "source": [
        "items = emotion_dict.items()\n",
        "\n",
        "for key, value in items:\n",
        "  emo = key\n",
        "  print(key, value)\n",
        "#  print(emo)"
      ],
      "metadata": {
        "id": "_KfJ_gzEU0vg"
      },
      "execution_count": null,
      "outputs": []
    },
    {
      "cell_type": "markdown",
      "source": [
        "測試模糊比對"
      ],
      "metadata": {
        "id": "ypfXsB3OY5V2"
      }
    },
    {
      "cell_type": "code",
      "source": [
        "process.extract(\"驚恐\", emotion_dict.get(\"驚恐\",0))"
      ],
      "metadata": {
        "id": "Wnv3qKYAXvIC"
      },
      "execution_count": null,
      "outputs": []
    },
    {
      "cell_type": "markdown",
      "source": [
        "### 1.5.1. 分類AI agent的情緒"
      ],
      "metadata": {
        "id": "NEOBcMmgZrqG"
      }
    },
    {
      "cell_type": "code",
      "source": [
        "sum = 0\n",
        "emo_list ={}\n",
        "emo_frame = pd.DataFrame()\n",
        "\n",
        "# 讀取AI agent分析的所有字詞\n",
        "for key, value in emopatient.items():\n",
        "  # 依據情緒辭典的7個類別\n",
        "  for emo in emotion_dict.keys():\n",
        "    # 依依模糊比對\n",
        "    results = process.extract(key, emotion_dict.get(emo,0))\n",
        "#    print(results)\n",
        "    # 加總該詞組內，最相近的4個詞的相似性總分\n",
        "    for result in results:\n",
        "      sum = sum + result[1]\n",
        "#    print(sum)\n",
        "    # 輸出成dict\n",
        "    emo_list.update({emo: sum})\n",
        "    sum = 0\n",
        "#  print(emo_list)\n",
        "  # 將dict轉成dataframe\n",
        "  emo_frame = pd.concat([emo_frame, pd.DataFrame([emo_list])], ignore_index=True)\n",
        "  emo_list = {}\n",
        "print(emo_frame)"
      ],
      "metadata": {
        "id": "ILyks-SXZwKI"
      },
      "execution_count": null,
      "outputs": []
    },
    {
      "cell_type": "markdown",
      "source": [
        "### 1.5.2. 加總所有情緒詞在9個類別的總分"
      ],
      "metadata": {
        "id": "K58hZgocVdYl"
      }
    },
    {
      "cell_type": "code",
      "source": [
        "emotion = emo_frame.sum().sort_values(ascending=False)\n",
        "print(emotion)"
      ],
      "metadata": {
        "id": "BD4rYqBnHenw"
      },
      "execution_count": null,
      "outputs": []
    },
    {
      "cell_type": "markdown",
      "source": [
        "### 1.5.3. 繪製9個情緒類別的文字雲"
      ],
      "metadata": {
        "id": "8LdpM8vGVvNL"
      }
    },
    {
      "cell_type": "code",
      "source": [
        "# 從頻率字典產生文字雲\n",
        "wordcloud_tot = WordCloud(font_path='TaipeiSansTCBeta-Regular.ttf',\n",
        "                      background_color='white')\n",
        "wordcloud_tot.generate_from_frequencies(emotion)\n",
        "\n",
        "# 顯示文字雲\n",
        "plt.figure(figsize=(7, 5))\n",
        "plt.imshow(wordcloud_tot, interpolation='bilinear')\n",
        "plt.axis('off')\n",
        "plt.show()"
      ],
      "metadata": {
        "id": "S8_ZlrBXOqDA"
      },
      "execution_count": null,
      "outputs": []
    },
    {
      "cell_type": "markdown",
      "source": [
        "## 1.6. 建立Web\n",
        "\n",
        "建立AI agent"
      ],
      "metadata": {
        "id": "Ulie6is9QKpl"
      }
    },
    {
      "cell_type": "code",
      "source": [
        "def chat_with_rag(user_input):\n",
        "    # 將自定 prompt 套入格式\n",
        "    final_prompt = mixed_prompt.format(retrieved_chunks_post=retrieved_pos_chunks,\n",
        "                                       retrieved_chunks_neg=retrieved_neg_chunks,\n",
        "                                       question=user_input)\n",
        "\n",
        "    # 呼叫 OpenAI API\n",
        "    response_ana = client.chat.completions.create(\n",
        "      model=model,\n",
        "      messages=[\n",
        "        {\"role\": \"system\", \"content\": mixed_prompt},\n",
        "        {\"role\": \"user\", \"content\": final_prompt},\n",
        "      ]\n",
        "    )\n",
        "\n",
        "    chat_history.append((user_input, answer))\n",
        "    return answer"
      ],
      "metadata": {
        "id": "5_NEHMTOQOc0"
      },
      "execution_count": null,
      "outputs": []
    }
  ]
}